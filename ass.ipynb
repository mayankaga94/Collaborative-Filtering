{
 "cells": [
  {
   "cell_type": "code",
   "execution_count": 60,
   "metadata": {},
   "outputs": [],
   "source": [
    "import pandas as pd\n",
    "import numpy as np\n",
    "from surprise import Reader\n",
    "from surprise import Dataset\n",
    "from surprise.model_selection import cross_validate\n",
    "from surprise import KNNBasic\n",
    "from surprise import KNNWithMeans\n",
    "from surprise import SVD\n",
    "from surprise import BaselineOnly\n",
    "from surprise import SVDpp\n",
    "from surprise import NMF\n",
    "from surprise.accuracy import rmse\n",
    "from surprise import accuracy\n",
    "from surprise.model_selection import train_test_split\n",
    "\n",
    "import matplotlib.pyplot as plt\n",
    "%matplotlib inline"
   ]
  },
  {
   "cell_type": "code",
   "execution_count": 61,
   "metadata": {},
   "outputs": [],
   "source": [
    "def get_df(user_file,rating_file):\n",
    "    user_columns = ['user_id', 'age', 'sex', 'occupation', 'zip_code']\n",
    "    users = pd.read_csv(user_file, sep='|', names=user_columns,\n",
    "                        encoding='latin-1')\n",
    "    ratings_columns = ['user_id', 'movie_id', 'rating', 'unix_timestamp']\n",
    "    ratings = pd.read_csv(rating_file, sep='\\t', names=ratings_columns,\n",
    "                          encoding='latin-1')\n",
    "    user_ratings = pd.merge(users,ratings, on='user_id', how='inner')\n",
    "\n",
    "    user_ratings.drop(['age','sex','occupation','zip_code','unix_timestamp'],axis=1,inplace=True)\n",
    "    return user_ratings\n"
   ]
  },
  {
   "cell_type": "code",
   "execution_count": 62,
   "metadata": {},
   "outputs": [
    {
     "data": {
      "text/html": [
       "<div>\n",
       "<style scoped>\n",
       "    .dataframe tbody tr th:only-of-type {\n",
       "        vertical-align: middle;\n",
       "    }\n",
       "\n",
       "    .dataframe tbody tr th {\n",
       "        vertical-align: top;\n",
       "    }\n",
       "\n",
       "    .dataframe thead th {\n",
       "        text-align: right;\n",
       "    }\n",
       "</style>\n",
       "<table border=\"1\" class=\"dataframe\">\n",
       "  <thead>\n",
       "    <tr style=\"text-align: right;\">\n",
       "      <th></th>\n",
       "      <th>user_id</th>\n",
       "      <th>movie_id</th>\n",
       "      <th>rating</th>\n",
       "    </tr>\n",
       "  </thead>\n",
       "  <tbody>\n",
       "    <tr>\n",
       "      <th>0</th>\n",
       "      <td>1</td>\n",
       "      <td>61</td>\n",
       "      <td>4</td>\n",
       "    </tr>\n",
       "    <tr>\n",
       "      <th>1</th>\n",
       "      <td>1</td>\n",
       "      <td>189</td>\n",
       "      <td>3</td>\n",
       "    </tr>\n",
       "    <tr>\n",
       "      <th>2</th>\n",
       "      <td>1</td>\n",
       "      <td>33</td>\n",
       "      <td>4</td>\n",
       "    </tr>\n",
       "    <tr>\n",
       "      <th>3</th>\n",
       "      <td>1</td>\n",
       "      <td>160</td>\n",
       "      <td>4</td>\n",
       "    </tr>\n",
       "    <tr>\n",
       "      <th>4</th>\n",
       "      <td>1</td>\n",
       "      <td>20</td>\n",
       "      <td>4</td>\n",
       "    </tr>\n",
       "  </tbody>\n",
       "</table>\n",
       "</div>"
      ],
      "text/plain": [
       "   user_id  movie_id  rating\n",
       "0        1        61       4\n",
       "1        1       189       3\n",
       "2        1        33       4\n",
       "3        1       160       4\n",
       "4        1        20       4"
      ]
     },
     "execution_count": 62,
     "metadata": {},
     "output_type": "execute_result"
    }
   ],
   "source": [
    "user_ratings = get_df('ml-100k/u.user','ml-100k/u.data')\n",
    "user_ratings.head()"
   ]
  },
  {
   "cell_type": "code",
   "execution_count": 63,
   "metadata": {},
   "outputs": [
    {
     "data": {
      "text/html": [
       "        <script type=\"text/javascript\">\n",
       "        window.PlotlyConfig = {MathJaxConfig: 'local'};\n",
       "        if (window.MathJax) {MathJax.Hub.Config({SVG: {font: \"STIX-Web\"}});}\n",
       "        if (typeof require !== 'undefined') {\n",
       "        require.undef(\"plotly\");\n",
       "        requirejs.config({\n",
       "            paths: {\n",
       "                'plotly': ['https://cdn.plot.ly/plotly-latest.min']\n",
       "            }\n",
       "        });\n",
       "        require(['plotly'], function(Plotly) {\n",
       "            window._Plotly = Plotly;\n",
       "        });\n",
       "        }\n",
       "        </script>\n",
       "        "
      ]
     },
     "metadata": {},
     "output_type": "display_data"
    }
   ],
   "source": [
    "from plotly.offline import init_notebook_mode, plot, iplot\n",
    "import plotly.graph_objs as go\n",
    "init_notebook_mode(connected=True)            "
   ]
  },
  {
   "cell_type": "code",
   "execution_count": 64,
   "metadata": {},
   "outputs": [
    {
     "data": {
      "application/vnd.plotly.v1+json": {
       "config": {
        "plotlyServerURL": "https://plot.ly"
       },
       "data": [
        {
         "hole": 0.3,
         "labels": [
          "1",
          "2",
          "3",
          "4",
          "5"
         ],
         "type": "pie",
         "values": [
          21.201,
          34.174,
          27.145000000000003,
          11.37,
          6.11
         ]
        }
       ],
       "layout": {
        "template": {
         "data": {
          "bar": [
           {
            "error_x": {
             "color": "#2a3f5f"
            },
            "error_y": {
             "color": "#2a3f5f"
            },
            "marker": {
             "line": {
              "color": "#E5ECF6",
              "width": 0.5
             }
            },
            "type": "bar"
           }
          ],
          "barpolar": [
           {
            "marker": {
             "line": {
              "color": "#E5ECF6",
              "width": 0.5
             }
            },
            "type": "barpolar"
           }
          ],
          "carpet": [
           {
            "aaxis": {
             "endlinecolor": "#2a3f5f",
             "gridcolor": "white",
             "linecolor": "white",
             "minorgridcolor": "white",
             "startlinecolor": "#2a3f5f"
            },
            "baxis": {
             "endlinecolor": "#2a3f5f",
             "gridcolor": "white",
             "linecolor": "white",
             "minorgridcolor": "white",
             "startlinecolor": "#2a3f5f"
            },
            "type": "carpet"
           }
          ],
          "choropleth": [
           {
            "colorbar": {
             "outlinewidth": 0,
             "ticks": ""
            },
            "type": "choropleth"
           }
          ],
          "contour": [
           {
            "colorbar": {
             "outlinewidth": 0,
             "ticks": ""
            },
            "colorscale": [
             [
              0,
              "#0d0887"
             ],
             [
              0.1111111111111111,
              "#46039f"
             ],
             [
              0.2222222222222222,
              "#7201a8"
             ],
             [
              0.3333333333333333,
              "#9c179e"
             ],
             [
              0.4444444444444444,
              "#bd3786"
             ],
             [
              0.5555555555555556,
              "#d8576b"
             ],
             [
              0.6666666666666666,
              "#ed7953"
             ],
             [
              0.7777777777777778,
              "#fb9f3a"
             ],
             [
              0.8888888888888888,
              "#fdca26"
             ],
             [
              1,
              "#f0f921"
             ]
            ],
            "type": "contour"
           }
          ],
          "contourcarpet": [
           {
            "colorbar": {
             "outlinewidth": 0,
             "ticks": ""
            },
            "type": "contourcarpet"
           }
          ],
          "heatmap": [
           {
            "colorbar": {
             "outlinewidth": 0,
             "ticks": ""
            },
            "colorscale": [
             [
              0,
              "#0d0887"
             ],
             [
              0.1111111111111111,
              "#46039f"
             ],
             [
              0.2222222222222222,
              "#7201a8"
             ],
             [
              0.3333333333333333,
              "#9c179e"
             ],
             [
              0.4444444444444444,
              "#bd3786"
             ],
             [
              0.5555555555555556,
              "#d8576b"
             ],
             [
              0.6666666666666666,
              "#ed7953"
             ],
             [
              0.7777777777777778,
              "#fb9f3a"
             ],
             [
              0.8888888888888888,
              "#fdca26"
             ],
             [
              1,
              "#f0f921"
             ]
            ],
            "type": "heatmap"
           }
          ],
          "heatmapgl": [
           {
            "colorbar": {
             "outlinewidth": 0,
             "ticks": ""
            },
            "colorscale": [
             [
              0,
              "#0d0887"
             ],
             [
              0.1111111111111111,
              "#46039f"
             ],
             [
              0.2222222222222222,
              "#7201a8"
             ],
             [
              0.3333333333333333,
              "#9c179e"
             ],
             [
              0.4444444444444444,
              "#bd3786"
             ],
             [
              0.5555555555555556,
              "#d8576b"
             ],
             [
              0.6666666666666666,
              "#ed7953"
             ],
             [
              0.7777777777777778,
              "#fb9f3a"
             ],
             [
              0.8888888888888888,
              "#fdca26"
             ],
             [
              1,
              "#f0f921"
             ]
            ],
            "type": "heatmapgl"
           }
          ],
          "histogram": [
           {
            "marker": {
             "colorbar": {
              "outlinewidth": 0,
              "ticks": ""
             }
            },
            "type": "histogram"
           }
          ],
          "histogram2d": [
           {
            "colorbar": {
             "outlinewidth": 0,
             "ticks": ""
            },
            "colorscale": [
             [
              0,
              "#0d0887"
             ],
             [
              0.1111111111111111,
              "#46039f"
             ],
             [
              0.2222222222222222,
              "#7201a8"
             ],
             [
              0.3333333333333333,
              "#9c179e"
             ],
             [
              0.4444444444444444,
              "#bd3786"
             ],
             [
              0.5555555555555556,
              "#d8576b"
             ],
             [
              0.6666666666666666,
              "#ed7953"
             ],
             [
              0.7777777777777778,
              "#fb9f3a"
             ],
             [
              0.8888888888888888,
              "#fdca26"
             ],
             [
              1,
              "#f0f921"
             ]
            ],
            "type": "histogram2d"
           }
          ],
          "histogram2dcontour": [
           {
            "colorbar": {
             "outlinewidth": 0,
             "ticks": ""
            },
            "colorscale": [
             [
              0,
              "#0d0887"
             ],
             [
              0.1111111111111111,
              "#46039f"
             ],
             [
              0.2222222222222222,
              "#7201a8"
             ],
             [
              0.3333333333333333,
              "#9c179e"
             ],
             [
              0.4444444444444444,
              "#bd3786"
             ],
             [
              0.5555555555555556,
              "#d8576b"
             ],
             [
              0.6666666666666666,
              "#ed7953"
             ],
             [
              0.7777777777777778,
              "#fb9f3a"
             ],
             [
              0.8888888888888888,
              "#fdca26"
             ],
             [
              1,
              "#f0f921"
             ]
            ],
            "type": "histogram2dcontour"
           }
          ],
          "mesh3d": [
           {
            "colorbar": {
             "outlinewidth": 0,
             "ticks": ""
            },
            "type": "mesh3d"
           }
          ],
          "parcoords": [
           {
            "line": {
             "colorbar": {
              "outlinewidth": 0,
              "ticks": ""
             }
            },
            "type": "parcoords"
           }
          ],
          "scatter": [
           {
            "marker": {
             "colorbar": {
              "outlinewidth": 0,
              "ticks": ""
             }
            },
            "type": "scatter"
           }
          ],
          "scatter3d": [
           {
            "line": {
             "colorbar": {
              "outlinewidth": 0,
              "ticks": ""
             }
            },
            "marker": {
             "colorbar": {
              "outlinewidth": 0,
              "ticks": ""
             }
            },
            "type": "scatter3d"
           }
          ],
          "scattercarpet": [
           {
            "marker": {
             "colorbar": {
              "outlinewidth": 0,
              "ticks": ""
             }
            },
            "type": "scattercarpet"
           }
          ],
          "scattergeo": [
           {
            "marker": {
             "colorbar": {
              "outlinewidth": 0,
              "ticks": ""
             }
            },
            "type": "scattergeo"
           }
          ],
          "scattergl": [
           {
            "marker": {
             "colorbar": {
              "outlinewidth": 0,
              "ticks": ""
             }
            },
            "type": "scattergl"
           }
          ],
          "scattermapbox": [
           {
            "marker": {
             "colorbar": {
              "outlinewidth": 0,
              "ticks": ""
             }
            },
            "type": "scattermapbox"
           }
          ],
          "scatterpolar": [
           {
            "marker": {
             "colorbar": {
              "outlinewidth": 0,
              "ticks": ""
             }
            },
            "type": "scatterpolar"
           }
          ],
          "scatterpolargl": [
           {
            "marker": {
             "colorbar": {
              "outlinewidth": 0,
              "ticks": ""
             }
            },
            "type": "scatterpolargl"
           }
          ],
          "scatterternary": [
           {
            "marker": {
             "colorbar": {
              "outlinewidth": 0,
              "ticks": ""
             }
            },
            "type": "scatterternary"
           }
          ],
          "surface": [
           {
            "colorbar": {
             "outlinewidth": 0,
             "ticks": ""
            },
            "colorscale": [
             [
              0,
              "#0d0887"
             ],
             [
              0.1111111111111111,
              "#46039f"
             ],
             [
              0.2222222222222222,
              "#7201a8"
             ],
             [
              0.3333333333333333,
              "#9c179e"
             ],
             [
              0.4444444444444444,
              "#bd3786"
             ],
             [
              0.5555555555555556,
              "#d8576b"
             ],
             [
              0.6666666666666666,
              "#ed7953"
             ],
             [
              0.7777777777777778,
              "#fb9f3a"
             ],
             [
              0.8888888888888888,
              "#fdca26"
             ],
             [
              1,
              "#f0f921"
             ]
            ],
            "type": "surface"
           }
          ],
          "table": [
           {
            "cells": {
             "fill": {
              "color": "#EBF0F8"
             },
             "line": {
              "color": "white"
             }
            },
            "header": {
             "fill": {
              "color": "#C8D4E3"
             },
             "line": {
              "color": "white"
             }
            },
            "type": "table"
           }
          ]
         },
         "layout": {
          "annotationdefaults": {
           "arrowcolor": "#2a3f5f",
           "arrowhead": 0,
           "arrowwidth": 1
          },
          "colorscale": {
           "diverging": [
            [
             0,
             "#8e0152"
            ],
            [
             0.1,
             "#c51b7d"
            ],
            [
             0.2,
             "#de77ae"
            ],
            [
             0.3,
             "#f1b6da"
            ],
            [
             0.4,
             "#fde0ef"
            ],
            [
             0.5,
             "#f7f7f7"
            ],
            [
             0.6,
             "#e6f5d0"
            ],
            [
             0.7,
             "#b8e186"
            ],
            [
             0.8,
             "#7fbc41"
            ],
            [
             0.9,
             "#4d9221"
            ],
            [
             1,
             "#276419"
            ]
           ],
           "sequential": [
            [
             0,
             "#0d0887"
            ],
            [
             0.1111111111111111,
             "#46039f"
            ],
            [
             0.2222222222222222,
             "#7201a8"
            ],
            [
             0.3333333333333333,
             "#9c179e"
            ],
            [
             0.4444444444444444,
             "#bd3786"
            ],
            [
             0.5555555555555556,
             "#d8576b"
            ],
            [
             0.6666666666666666,
             "#ed7953"
            ],
            [
             0.7777777777777778,
             "#fb9f3a"
            ],
            [
             0.8888888888888888,
             "#fdca26"
            ],
            [
             1,
             "#f0f921"
            ]
           ],
           "sequentialminus": [
            [
             0,
             "#0d0887"
            ],
            [
             0.1111111111111111,
             "#46039f"
            ],
            [
             0.2222222222222222,
             "#7201a8"
            ],
            [
             0.3333333333333333,
             "#9c179e"
            ],
            [
             0.4444444444444444,
             "#bd3786"
            ],
            [
             0.5555555555555556,
             "#d8576b"
            ],
            [
             0.6666666666666666,
             "#ed7953"
            ],
            [
             0.7777777777777778,
             "#fb9f3a"
            ],
            [
             0.8888888888888888,
             "#fdca26"
            ],
            [
             1,
             "#f0f921"
            ]
           ]
          },
          "colorway": [
           "#636efa",
           "#EF553B",
           "#00cc96",
           "#ab63fa",
           "#FFA15A",
           "#19d3f3",
           "#FF6692",
           "#B6E880",
           "#FF97FF",
           "#FECB52"
          ],
          "font": {
           "color": "#2a3f5f"
          },
          "geo": {
           "bgcolor": "white",
           "lakecolor": "white",
           "landcolor": "#E5ECF6",
           "showlakes": true,
           "showland": true,
           "subunitcolor": "white"
          },
          "hoverlabel": {
           "align": "left"
          },
          "hovermode": "closest",
          "mapbox": {
           "style": "light"
          },
          "paper_bgcolor": "white",
          "plot_bgcolor": "#E5ECF6",
          "polar": {
           "angularaxis": {
            "gridcolor": "white",
            "linecolor": "white",
            "ticks": ""
           },
           "bgcolor": "#E5ECF6",
           "radialaxis": {
            "gridcolor": "white",
            "linecolor": "white",
            "ticks": ""
           }
          },
          "scene": {
           "xaxis": {
            "backgroundcolor": "#E5ECF6",
            "gridcolor": "white",
            "gridwidth": 2,
            "linecolor": "white",
            "showbackground": true,
            "ticks": "",
            "zerolinecolor": "white"
           },
           "yaxis": {
            "backgroundcolor": "#E5ECF6",
            "gridcolor": "white",
            "gridwidth": 2,
            "linecolor": "white",
            "showbackground": true,
            "ticks": "",
            "zerolinecolor": "white"
           },
           "zaxis": {
            "backgroundcolor": "#E5ECF6",
            "gridcolor": "white",
            "gridwidth": 2,
            "linecolor": "white",
            "showbackground": true,
            "ticks": "",
            "zerolinecolor": "white"
           }
          },
          "shapedefaults": {
           "line": {
            "color": "#2a3f5f"
           }
          },
          "ternary": {
           "aaxis": {
            "gridcolor": "white",
            "linecolor": "white",
            "ticks": ""
           },
           "baxis": {
            "gridcolor": "white",
            "linecolor": "white",
            "ticks": ""
           },
           "bgcolor": "#E5ECF6",
           "caxis": {
            "gridcolor": "white",
            "linecolor": "white",
            "ticks": ""
           }
          },
          "title": {
           "x": 0.05
          },
          "xaxis": {
           "automargin": true,
           "gridcolor": "white",
           "linecolor": "white",
           "ticks": "",
           "zerolinecolor": "white",
           "zerolinewidth": 2
          },
          "yaxis": {
           "automargin": true,
           "gridcolor": "white",
           "linecolor": "white",
           "ticks": "",
           "zerolinecolor": "white",
           "zerolinewidth": 2
          }
         }
        }
       }
      },
      "text/html": [
       "<div>\n",
       "        \n",
       "        \n",
       "            <div id=\"07e80f97-955a-4f65-80e2-dc0015e4bbec\" class=\"plotly-graph-div\" style=\"height:525px; width:100%;\"></div>\n",
       "            <script type=\"text/javascript\">\n",
       "                require([\"plotly\"], function(Plotly) {\n",
       "                    window.PLOTLYENV=window.PLOTLYENV || {};\n",
       "                    \n",
       "                if (document.getElementById(\"07e80f97-955a-4f65-80e2-dc0015e4bbec\")) {\n",
       "                    Plotly.newPlot(\n",
       "                        '07e80f97-955a-4f65-80e2-dc0015e4bbec',\n",
       "                        [{\"hole\": 0.3, \"labels\": [\"1\", \"2\", \"3\", \"4\", \"5\"], \"type\": \"pie\", \"values\": [21.201, 34.174, 27.145000000000003, 11.37, 6.11]}],\n",
       "                        {\"template\": {\"data\": {\"bar\": [{\"error_x\": {\"color\": \"#2a3f5f\"}, \"error_y\": {\"color\": \"#2a3f5f\"}, \"marker\": {\"line\": {\"color\": \"#E5ECF6\", \"width\": 0.5}}, \"type\": \"bar\"}], \"barpolar\": [{\"marker\": {\"line\": {\"color\": \"#E5ECF6\", \"width\": 0.5}}, \"type\": \"barpolar\"}], \"carpet\": [{\"aaxis\": {\"endlinecolor\": \"#2a3f5f\", \"gridcolor\": \"white\", \"linecolor\": \"white\", \"minorgridcolor\": \"white\", \"startlinecolor\": \"#2a3f5f\"}, \"baxis\": {\"endlinecolor\": \"#2a3f5f\", \"gridcolor\": \"white\", \"linecolor\": \"white\", \"minorgridcolor\": \"white\", \"startlinecolor\": \"#2a3f5f\"}, \"type\": \"carpet\"}], \"choropleth\": [{\"colorbar\": {\"outlinewidth\": 0, \"ticks\": \"\"}, \"type\": \"choropleth\"}], \"contour\": [{\"colorbar\": {\"outlinewidth\": 0, \"ticks\": \"\"}, \"colorscale\": [[0.0, \"#0d0887\"], [0.1111111111111111, \"#46039f\"], [0.2222222222222222, \"#7201a8\"], [0.3333333333333333, \"#9c179e\"], [0.4444444444444444, \"#bd3786\"], [0.5555555555555556, \"#d8576b\"], [0.6666666666666666, \"#ed7953\"], [0.7777777777777778, \"#fb9f3a\"], [0.8888888888888888, \"#fdca26\"], [1.0, \"#f0f921\"]], \"type\": \"contour\"}], \"contourcarpet\": [{\"colorbar\": {\"outlinewidth\": 0, \"ticks\": \"\"}, \"type\": \"contourcarpet\"}], \"heatmap\": [{\"colorbar\": {\"outlinewidth\": 0, \"ticks\": \"\"}, \"colorscale\": [[0.0, \"#0d0887\"], [0.1111111111111111, \"#46039f\"], [0.2222222222222222, \"#7201a8\"], [0.3333333333333333, \"#9c179e\"], [0.4444444444444444, \"#bd3786\"], [0.5555555555555556, \"#d8576b\"], [0.6666666666666666, \"#ed7953\"], [0.7777777777777778, \"#fb9f3a\"], [0.8888888888888888, \"#fdca26\"], [1.0, \"#f0f921\"]], \"type\": \"heatmap\"}], \"heatmapgl\": [{\"colorbar\": {\"outlinewidth\": 0, \"ticks\": \"\"}, \"colorscale\": [[0.0, \"#0d0887\"], [0.1111111111111111, \"#46039f\"], [0.2222222222222222, \"#7201a8\"], [0.3333333333333333, \"#9c179e\"], [0.4444444444444444, \"#bd3786\"], [0.5555555555555556, \"#d8576b\"], [0.6666666666666666, \"#ed7953\"], [0.7777777777777778, \"#fb9f3a\"], [0.8888888888888888, \"#fdca26\"], [1.0, \"#f0f921\"]], \"type\": \"heatmapgl\"}], \"histogram\": [{\"marker\": {\"colorbar\": {\"outlinewidth\": 0, \"ticks\": \"\"}}, \"type\": \"histogram\"}], \"histogram2d\": [{\"colorbar\": {\"outlinewidth\": 0, \"ticks\": \"\"}, \"colorscale\": [[0.0, \"#0d0887\"], [0.1111111111111111, \"#46039f\"], [0.2222222222222222, \"#7201a8\"], [0.3333333333333333, \"#9c179e\"], [0.4444444444444444, \"#bd3786\"], [0.5555555555555556, \"#d8576b\"], [0.6666666666666666, \"#ed7953\"], [0.7777777777777778, \"#fb9f3a\"], [0.8888888888888888, \"#fdca26\"], [1.0, \"#f0f921\"]], \"type\": \"histogram2d\"}], \"histogram2dcontour\": [{\"colorbar\": {\"outlinewidth\": 0, \"ticks\": \"\"}, \"colorscale\": [[0.0, \"#0d0887\"], [0.1111111111111111, \"#46039f\"], [0.2222222222222222, \"#7201a8\"], [0.3333333333333333, \"#9c179e\"], [0.4444444444444444, \"#bd3786\"], [0.5555555555555556, \"#d8576b\"], [0.6666666666666666, \"#ed7953\"], [0.7777777777777778, \"#fb9f3a\"], [0.8888888888888888, \"#fdca26\"], [1.0, \"#f0f921\"]], \"type\": \"histogram2dcontour\"}], \"mesh3d\": [{\"colorbar\": {\"outlinewidth\": 0, \"ticks\": \"\"}, \"type\": \"mesh3d\"}], \"parcoords\": [{\"line\": {\"colorbar\": {\"outlinewidth\": 0, \"ticks\": \"\"}}, \"type\": \"parcoords\"}], \"scatter\": [{\"marker\": {\"colorbar\": {\"outlinewidth\": 0, \"ticks\": \"\"}}, \"type\": \"scatter\"}], \"scatter3d\": [{\"line\": {\"colorbar\": {\"outlinewidth\": 0, \"ticks\": \"\"}}, \"marker\": {\"colorbar\": {\"outlinewidth\": 0, \"ticks\": \"\"}}, \"type\": \"scatter3d\"}], \"scattercarpet\": [{\"marker\": {\"colorbar\": {\"outlinewidth\": 0, \"ticks\": \"\"}}, \"type\": \"scattercarpet\"}], \"scattergeo\": [{\"marker\": {\"colorbar\": {\"outlinewidth\": 0, \"ticks\": \"\"}}, \"type\": \"scattergeo\"}], \"scattergl\": [{\"marker\": {\"colorbar\": {\"outlinewidth\": 0, \"ticks\": \"\"}}, \"type\": \"scattergl\"}], \"scattermapbox\": [{\"marker\": {\"colorbar\": {\"outlinewidth\": 0, \"ticks\": \"\"}}, \"type\": \"scattermapbox\"}], \"scatterpolar\": [{\"marker\": {\"colorbar\": {\"outlinewidth\": 0, \"ticks\": \"\"}}, \"type\": \"scatterpolar\"}], \"scatterpolargl\": [{\"marker\": {\"colorbar\": {\"outlinewidth\": 0, \"ticks\": \"\"}}, \"type\": \"scatterpolargl\"}], \"scatterternary\": [{\"marker\": {\"colorbar\": {\"outlinewidth\": 0, \"ticks\": \"\"}}, \"type\": \"scatterternary\"}], \"surface\": [{\"colorbar\": {\"outlinewidth\": 0, \"ticks\": \"\"}, \"colorscale\": [[0.0, \"#0d0887\"], [0.1111111111111111, \"#46039f\"], [0.2222222222222222, \"#7201a8\"], [0.3333333333333333, \"#9c179e\"], [0.4444444444444444, \"#bd3786\"], [0.5555555555555556, \"#d8576b\"], [0.6666666666666666, \"#ed7953\"], [0.7777777777777778, \"#fb9f3a\"], [0.8888888888888888, \"#fdca26\"], [1.0, \"#f0f921\"]], \"type\": \"surface\"}], \"table\": [{\"cells\": {\"fill\": {\"color\": \"#EBF0F8\"}, \"line\": {\"color\": \"white\"}}, \"header\": {\"fill\": {\"color\": \"#C8D4E3\"}, \"line\": {\"color\": \"white\"}}, \"type\": \"table\"}]}, \"layout\": {\"annotationdefaults\": {\"arrowcolor\": \"#2a3f5f\", \"arrowhead\": 0, \"arrowwidth\": 1}, \"colorscale\": {\"diverging\": [[0, \"#8e0152\"], [0.1, \"#c51b7d\"], [0.2, \"#de77ae\"], [0.3, \"#f1b6da\"], [0.4, \"#fde0ef\"], [0.5, \"#f7f7f7\"], [0.6, \"#e6f5d0\"], [0.7, \"#b8e186\"], [0.8, \"#7fbc41\"], [0.9, \"#4d9221\"], [1, \"#276419\"]], \"sequential\": [[0.0, \"#0d0887\"], [0.1111111111111111, \"#46039f\"], [0.2222222222222222, \"#7201a8\"], [0.3333333333333333, \"#9c179e\"], [0.4444444444444444, \"#bd3786\"], [0.5555555555555556, \"#d8576b\"], [0.6666666666666666, \"#ed7953\"], [0.7777777777777778, \"#fb9f3a\"], [0.8888888888888888, \"#fdca26\"], [1.0, \"#f0f921\"]], \"sequentialminus\": [[0.0, \"#0d0887\"], [0.1111111111111111, \"#46039f\"], [0.2222222222222222, \"#7201a8\"], [0.3333333333333333, \"#9c179e\"], [0.4444444444444444, \"#bd3786\"], [0.5555555555555556, \"#d8576b\"], [0.6666666666666666, \"#ed7953\"], [0.7777777777777778, \"#fb9f3a\"], [0.8888888888888888, \"#fdca26\"], [1.0, \"#f0f921\"]]}, \"colorway\": [\"#636efa\", \"#EF553B\", \"#00cc96\", \"#ab63fa\", \"#FFA15A\", \"#19d3f3\", \"#FF6692\", \"#B6E880\", \"#FF97FF\", \"#FECB52\"], \"font\": {\"color\": \"#2a3f5f\"}, \"geo\": {\"bgcolor\": \"white\", \"lakecolor\": \"white\", \"landcolor\": \"#E5ECF6\", \"showlakes\": true, \"showland\": true, \"subunitcolor\": \"white\"}, \"hoverlabel\": {\"align\": \"left\"}, \"hovermode\": \"closest\", \"mapbox\": {\"style\": \"light\"}, \"paper_bgcolor\": \"white\", \"plot_bgcolor\": \"#E5ECF6\", \"polar\": {\"angularaxis\": {\"gridcolor\": \"white\", \"linecolor\": \"white\", \"ticks\": \"\"}, \"bgcolor\": \"#E5ECF6\", \"radialaxis\": {\"gridcolor\": \"white\", \"linecolor\": \"white\", \"ticks\": \"\"}}, \"scene\": {\"xaxis\": {\"backgroundcolor\": \"#E5ECF6\", \"gridcolor\": \"white\", \"gridwidth\": 2, \"linecolor\": \"white\", \"showbackground\": true, \"ticks\": \"\", \"zerolinecolor\": \"white\"}, \"yaxis\": {\"backgroundcolor\": \"#E5ECF6\", \"gridcolor\": \"white\", \"gridwidth\": 2, \"linecolor\": \"white\", \"showbackground\": true, \"ticks\": \"\", \"zerolinecolor\": \"white\"}, \"zaxis\": {\"backgroundcolor\": \"#E5ECF6\", \"gridcolor\": \"white\", \"gridwidth\": 2, \"linecolor\": \"white\", \"showbackground\": true, \"ticks\": \"\", \"zerolinecolor\": \"white\"}}, \"shapedefaults\": {\"line\": {\"color\": \"#2a3f5f\"}}, \"ternary\": {\"aaxis\": {\"gridcolor\": \"white\", \"linecolor\": \"white\", \"ticks\": \"\"}, \"baxis\": {\"gridcolor\": \"white\", \"linecolor\": \"white\", \"ticks\": \"\"}, \"bgcolor\": \"#E5ECF6\", \"caxis\": {\"gridcolor\": \"white\", \"linecolor\": \"white\", \"ticks\": \"\"}}, \"title\": {\"x\": 0.05}, \"xaxis\": {\"automargin\": true, \"gridcolor\": \"white\", \"linecolor\": \"white\", \"ticks\": \"\", \"zerolinecolor\": \"white\", \"zerolinewidth\": 2}, \"yaxis\": {\"automargin\": true, \"gridcolor\": \"white\", \"linecolor\": \"white\", \"ticks\": \"\", \"zerolinecolor\": \"white\", \"zerolinewidth\": 2}}}},\n",
       "                        {\"responsive\": true}\n",
       "                    ).then(function(){\n",
       "                            \n",
       "var gd = document.getElementById('07e80f97-955a-4f65-80e2-dc0015e4bbec');\n",
       "var x = new MutationObserver(function (mutations, observer) {{\n",
       "        var display = window.getComputedStyle(gd).display;\n",
       "        if (!display || display === 'none') {{\n",
       "            console.log([gd, 'removed!']);\n",
       "            Plotly.purge(gd);\n",
       "            observer.disconnect();\n",
       "        }}\n",
       "}});\n",
       "\n",
       "// Listen for the removal of the full notebook cells\n",
       "var notebookContainer = gd.closest('#notebook-container');\n",
       "if (notebookContainer) {{\n",
       "    x.observe(notebookContainer, {childList: true});\n",
       "}}\n",
       "\n",
       "// Listen for the clearing of the current output cell\n",
       "var outputEl = gd.closest('.output');\n",
       "if (outputEl) {{\n",
       "    x.observe(outputEl, {childList: true});\n",
       "}}\n",
       "\n",
       "                        })\n",
       "                };\n",
       "                });\n",
       "            </script>\n",
       "        </div>"
      ]
     },
     "metadata": {},
     "output_type": "display_data"
    }
   ],
   "source": [
    "labels = ['1','2','3','4','5']\n",
    "data = user_ratings['rating'].value_counts().sort_index(ascending=False)\n",
    "text=[]\n",
    "for val in (data.values/user_ratings.shape[0]*100):\n",
    "    \n",
    "    text.append(val)\n",
    "fig = go.Figure(data=[go.Pie(labels=labels,values=text,hole=.3)])\n",
    "fig.show()"
   ]
  },
  {
   "cell_type": "code",
   "execution_count": 65,
   "metadata": {},
   "outputs": [
    {
     "data": {
      "application/vnd.plotly.v1+json": {
       "config": {
        "linkText": "Export to plot.ly",
        "plotlyServerURL": "https://plot.ly",
        "showLink": false
       },
       "data": [
        {
         "name": "Ratings",
         "type": "histogram",
         "x": [
          452,
          131,
          90,
          209,
          86,
          26,
          392,
          219,
          299,
          89,
          236,
          267,
          184,
          183,
          293,
          39,
          92,
          10,
          69,
          72,
          84,
          297,
          182,
          174,
          293,
          73,
          57,
          276,
          114,
          37,
          154,
          81,
          97,
          7,
          11,
          13,
          8,
          120,
          87,
          57,
          37,
          148,
          40,
          79,
          80,
          27,
          133,
          117,
          81,
          583,
          81,
          91,
          128,
          104,
          149,
          394,
          40,
          175,
          83,
          64,
          59,
          127,
          82,
          283,
          115,
          162,
          103,
          134,
          321,
          251,
          220,
          129,
          128,
          7,
          5,
          54,
          151,
          33,
          336,
          68,
          110,
          261,
          176,
          18,
          58,
          150,
          138,
          213,
          275,
          95,
          143,
          104,
          112,
          137,
          219,
          295,
          256,
          390,
          172,
          508,
          73,
          54,
          15,
          5,
          74,
          71,
          42,
          65,
          130,
          31,
          272,
          20,
          9,
          67,
          15,
          125,
          378,
          293,
          4,
          67,
          429,
          106,
          115,
          187,
          244,
          97,
          413,
          65,
          129,
          23,
          95,
          246,
          171,
          198,
          259,
          105,
          171,
          19,
          50,
          61,
          72,
          57,
          222,
          243,
          65,
          10,
          185,
          128,
          23,
          157,
          326,
          82,
          247,
          174,
          98,
          148,
          127,
          60,
          101,
          69,
          220,
          106,
          92,
          151,
          64,
          58,
          67,
          316,
          118,
          121,
          65,
          367,
          324,
          420,
          208,
          284,
          137,
          125,
          221,
          221,
          507,
          226,
          291,
          116,
          239,
          251,
          209,
          170,
          66,
          124,
          276,
          116,
          157,
          241,
          301,
          251,
          239,
          127,
          165,
          206,
          89,
          280,
          182,
          350,
          136,
          50,
          66,
          200,
          191,
          331,
          206,
          92,
          134,
          114,
          212,
          290,
          120,
          171,
          111,
          66,
          74,
          365,
          136,
          44,
          109,
          166,
          161,
          244,
          171,
          199,
          142,
          101,
          124,
          280,
          217,
          45,
          384,
          256,
          150,
          156,
          128,
          117,
          132,
          48,
          240,
          124,
          5,
          160,
          130,
          197,
          46,
          158,
          26,
          62,
          172,
          16,
          303,
          509,
          162,
          127,
          43,
          66,
          19,
          101,
          227,
          35,
          9,
          255,
          315,
          136,
          211,
          198,
          223,
          190,
          268,
          298,
          71,
          60,
          28,
          85,
          146,
          232,
          177,
          193,
          162,
          481,
          78,
          478,
          259,
          96,
          127,
          114,
          147,
          485,
          77,
          6,
          50,
          194,
          73,
          431,
          230,
          297,
          134,
          149,
          87,
          96,
          188,
          30,
          28,
          145,
          75,
          80,
          350,
          5,
          160,
          112,
          102,
          298,
          168,
          20,
          169,
          218,
          240,
          125,
          128,
          175,
          175,
          295,
          45,
          41,
          113,
          143,
          251,
          64,
          21,
          43,
          18,
          91,
          47,
          189,
          11,
          52,
          124,
          55,
          65,
          126,
          137,
          27,
          31,
          41,
          20,
          26,
          14,
          72,
          41,
          97,
          264,
          143,
          18,
          10,
          10,
          28,
          47,
          37,
          48,
          47,
          170,
          31,
          55,
          39,
          67,
          34,
          39,
          11,
          23,
          24,
          13,
          101,
          43,
          116,
          100,
          111,
          31,
          69,
          208,
          87,
          65,
          28,
          27,
          10,
          59,
          68,
          192,
          12,
          56,
          54,
          12,
          26,
          89,
          18,
          76,
          170,
          201,
          101,
          344,
          49,
          43,
          112,
          70,
          162,
          163,
          93,
          55,
          62,
          25,
          64,
          73,
          129,
          178,
          81,
          106,
          26,
          300,
          19,
          85,
          32,
          219,
          121,
          97,
          93,
          153,
          174,
          171,
          67,
          216,
          99,
          5,
          6,
          5,
          14,
          53,
          4,
          162,
          46,
          22,
          9,
          121,
          85,
          117,
          63,
          170,
          66,
          16,
          16,
          145,
          48,
          27,
          90,
          24,
          28,
          74,
          148,
          71,
          27,
          85,
          52,
          48,
          64,
          67,
          108,
          221,
          158,
          126,
          194,
          250,
          160,
          95,
          104,
          179,
          179,
          63,
          128,
          243,
          138,
          125,
          64,
          68,
          65,
          52,
          50,
          67,
          59,
          60,
          56,
          59,
          231,
          68,
          152,
          62,
          31,
          123,
          57,
          39,
          122,
          68,
          90,
          98,
          215,
          121,
          121,
          173,
          57,
          72,
          180,
          201,
          63,
          91,
          89,
          80,
          124,
          120,
          35,
          164,
          46,
          73,
          124,
          195,
          121,
          93,
          80,
          129,
          22,
          15,
          13,
          54,
          10,
          30,
          66,
          44,
          43,
          49,
          51,
          21,
          71,
          12,
          254,
          41,
          12,
          92,
          151,
          24,
          45,
          63,
          102,
          10,
          12,
          17,
          70,
          137,
          22,
          59,
          48,
          29,
          27,
          22,
          179,
          35,
          230,
          67,
          50,
          28,
          29,
          33,
          15,
          44,
          93,
          41,
          92,
          19,
          32,
          59,
          168,
          37,
          79,
          39,
          34,
          14,
          202,
          43,
          18,
          178,
          9,
          12,
          5,
          64,
          127,
          206,
          4,
          1,
          2,
          20,
          50,
          209,
          81,
          31,
          66,
          66,
          30,
          60,
          41,
          40,
          34,
          27,
          51,
          59,
          64,
          18,
          18,
          64,
          43,
          11,
          39,
          39,
          22,
          82,
          4,
          75,
          169,
          77,
          31,
          119,
          58,
          69,
          24,
          23,
          91,
          38,
          44,
          40,
          82,
          33,
          89,
          4,
          35,
          27,
          38,
          70,
          67,
          50,
          72,
          171,
          90,
          34,
          147,
          227,
          44,
          131,
          79,
          115,
          153,
          88,
          82,
          116,
          46,
          100,
          5,
          12,
          6,
          13,
          36,
          46,
          65,
          86,
          48,
          54,
          77,
          1,
          219,
          107,
          34,
          27,
          100,
          49,
          169,
          157,
          50,
          69,
          44,
          87,
          155,
          16,
          164,
          91,
          44,
          13,
          79,
          40,
          10,
          102,
          15,
          10,
          53,
          19,
          24,
          137,
          6,
          70,
          101,
          104,
          79,
          1,
          51,
          72,
          13,
          87,
          58,
          82,
          16,
          29,
          86,
          54,
          58,
          34,
          76,
          16,
          14,
          63,
          45,
          81,
          24,
          39,
          180,
          15,
          27,
          137,
          78,
          59,
          31,
          164,
          63,
          58,
          267,
          39,
          92,
          16,
          119,
          102,
          316,
          51,
          124,
          180,
          39,
          24,
          57,
          96,
          128,
          4,
          21,
          11,
          46,
          44,
          115,
          149,
          29,
          32,
          9,
          11,
          52,
          42,
          57,
          41,
          49,
          17,
          32,
          26,
          9,
          4,
          76,
          31,
          69,
          84,
          10,
          37,
          2,
          39,
          14,
          13,
          3,
          47,
          66,
          10,
          86,
          10,
          46,
          21,
          36,
          31,
          9,
          5,
          26,
          16,
          40,
          9,
          8,
          27,
          50,
          9,
          31,
          43,
          45,
          18,
          18,
          56,
          1,
          112,
          21,
          3,
          25,
          40,
          93,
          22,
          4,
          82,
          49,
          83,
          80,
          57,
          13,
          34,
          1,
          91,
          22,
          49,
          25,
          15,
          26,
          25,
          4,
          4,
          53,
          48,
          27,
          30,
          42,
          176,
          44,
          55,
          9,
          53,
          4,
          4,
          1,
          14,
          16,
          66,
          36,
          1,
          3,
          15,
          16,
          3,
          18,
          24,
          86,
          21,
          119,
          6,
          5,
          24,
          9,
          75,
          42,
          81,
          39,
          53,
          47,
          52,
          33,
          136,
          59,
          45,
          34,
          13,
          7,
          13,
          53,
          64,
          15,
          13,
          43,
          6,
          53,
          14,
          19,
          106,
          44,
          2,
          58,
          9,
          42,
          12,
          42,
          18,
          20,
          27,
          21,
          2,
          20,
          13,
          4,
          4,
          9,
          2,
          11,
          13,
          18,
          7,
          8,
          96,
          5,
          46,
          34,
          58,
          85,
          34,
          101,
          6,
          104,
          40,
          80,
          57,
          40,
          21,
          68,
          7,
          32,
          37,
          25,
          60,
          32,
          46,
          45,
          40,
          43,
          40,
          61,
          17,
          48,
          71,
          30,
          39,
          45,
          22,
          11,
          49,
          46,
          2,
          14,
          64,
          25,
          34,
          23,
          41,
          9,
          21,
          26,
          12,
          18,
          75,
          8,
          34,
          28,
          4,
          32,
          44,
          12,
          49,
          27,
          35,
          22,
          8,
          20,
          15,
          44,
          22,
          23,
          4,
          86,
          32,
          33,
          25,
          4,
          66,
          7,
          31,
          14,
          16,
          16,
          10,
          10,
          17,
          8,
          8,
          9,
          22,
          23,
          47,
          37,
          64,
          44,
          93,
          100,
          38,
          98,
          12,
          137,
          50,
          32,
          31,
          35,
          38,
          32,
          31,
          15,
          44,
          4,
          3,
          148,
          14,
          20,
          7,
          16,
          32,
          27,
          68,
          24,
          24,
          17,
          90,
          25,
          62,
          28,
          8,
          40,
          25,
          46,
          134,
          73,
          25,
          43,
          41,
          25,
          24,
          23,
          10,
          10,
          22,
          15,
          35,
          39,
          29,
          12,
          41,
          4,
          53,
          16,
          44,
          12,
          18,
          27,
          16,
          7,
          66,
          77,
          7,
          12,
          8,
          22,
          45,
          2,
          8,
          8,
          6,
          21,
          11,
          21,
          10,
          13,
          38,
          37,
          43,
          12,
          23,
          12,
          29,
          3,
          18,
          42,
          13,
          8,
          74,
          7,
          19,
          4,
          18,
          4,
          18,
          5,
          28,
          41,
          7,
          15,
          22,
          10,
          29,
          13,
          19,
          47,
          59,
          17,
          21,
          1,
          3,
          12,
          4,
          32,
          11,
          13,
          28,
          1,
          13,
          32,
          30,
          38,
          46,
          29,
          29,
          5,
          33,
          17,
          9,
          44,
          15,
          3,
          9,
          3,
          21,
          9,
          26,
          9,
          7,
          28,
          19,
          12,
          3,
          1,
          25,
          4,
          11,
          26,
          13,
          5,
          25,
          6,
          14,
          12,
          11,
          22,
          10,
          27,
          14,
          15,
          7,
          8,
          5,
          22,
          7,
          19,
          9,
          10,
          10,
          13,
          19,
          10,
          18,
          3,
          13,
          44,
          3,
          11,
          3,
          13,
          10,
          31,
          11,
          3,
          45,
          7,
          23,
          7,
          1,
          8,
          21,
          18,
          6,
          19,
          17,
          20,
          15,
          38,
          12,
          6,
          6,
          9,
          30,
          6,
          39,
          26,
          20,
          30,
          39,
          25,
          4,
          12,
          14,
          32,
          8,
          48,
          13,
          18,
          22,
          17,
          6,
          8,
          1,
          1,
          6,
          8,
          18,
          26,
          6,
          5,
          7,
          36,
          19,
          7,
          6,
          19,
          12,
          6,
          8,
          9,
          7,
          11,
          8,
          3,
          4,
          23,
          4,
          4,
          4,
          8,
          15,
          7,
          19,
          12,
          33,
          10,
          10,
          7,
          7,
          5,
          15,
          11,
          4,
          8,
          19,
          16,
          9,
          16,
          13,
          9,
          19,
          26,
          15,
          17,
          6,
          7,
          7,
          2,
          15,
          3,
          3,
          7,
          7,
          20,
          12,
          9,
          8,
          9,
          5,
          5,
          18,
          2,
          7,
          2,
          2,
          2,
          1,
          1,
          16,
          7,
          14,
          11,
          23,
          7,
          4,
          3,
          4,
          1,
          2,
          6,
          3,
          5,
          1,
          6,
          3,
          6,
          1,
          4,
          4,
          2,
          5,
          2,
          11,
          10,
          9,
          4,
          1,
          1,
          1,
          2,
          1,
          5,
          2,
          5,
          4,
          1,
          1,
          2,
          3,
          1,
          5,
          2,
          6,
          3,
          3,
          2,
          2,
          2,
          3,
          2,
          1,
          1,
          2,
          1,
          5,
          6,
          4,
          3,
          2,
          3,
          1,
          2,
          10,
          7,
          4,
          5,
          7,
          6,
          8,
          4,
          6,
          3,
          5,
          6,
          3,
          6,
          3,
          2,
          3,
          5,
          9,
          7,
          6,
          5,
          5,
          2,
          7,
          10,
          18,
          4,
          4,
          13,
          6,
          5,
          20,
          3,
          7,
          4,
          28,
          6,
          8,
          1,
          9,
          5,
          2,
          3,
          16,
          3,
          11,
          4,
          4,
          3,
          10,
          8,
          5,
          12,
          4,
          3,
          5,
          3,
          2,
          10,
          7,
          2,
          9,
          5,
          8,
          5,
          7,
          5,
          4,
          19,
          4,
          15,
          1,
          3,
          8,
          2,
          15,
          1,
          1,
          6,
          2,
          7,
          1,
          1,
          7,
          1,
          1,
          7,
          3,
          3,
          3,
          6,
          2,
          6,
          12,
          5,
          9,
          2,
          9,
          6,
          8,
          1,
          2,
          18,
          8,
          11,
          2,
          1,
          12,
          3,
          4,
          1,
          5,
          4,
          5,
          3,
          2,
          1,
          1,
          1,
          5,
          5,
          2,
          1,
          4,
          2,
          5,
          2,
          10,
          3,
          1,
          3,
          1,
          3,
          5,
          1,
          5,
          6,
          3,
          7,
          1,
          3,
          5,
          12,
          2,
          1,
          4,
          7,
          2,
          8,
          1,
          1,
          7,
          3,
          5,
          5,
          7,
          2,
          1,
          6,
          4,
          1,
          4,
          3,
          4,
          10,
          2,
          2,
          1,
          3,
          4,
          1,
          2,
          1,
          2,
          2,
          2,
          3,
          4,
          2,
          5,
          2,
          1,
          7,
          1,
          4,
          1,
          1,
          1,
          1,
          1,
          1,
          1,
          1,
          1,
          1,
          1,
          1,
          2,
          1,
          1,
          1,
          1,
          2,
          1,
          1,
          1,
          1,
          1,
          1,
          2,
          1,
          1,
          2,
          4,
          2,
          6,
          5,
          1,
          2,
          1,
          1,
          5,
          6,
          1,
          4,
          1,
          3,
          1,
          1,
          4,
          1,
          3,
          4,
          3,
          3,
          2,
          4,
          1,
          1,
          10,
          1,
          2,
          1,
          1,
          9,
          1,
          3,
          3,
          1,
          1,
          1,
          1,
          4,
          2,
          1,
          2,
          1,
          1,
          1,
          1,
          1,
          1,
          1,
          3,
          1,
          1,
          2,
          4,
          2,
          1,
          2,
          1,
          1,
          1,
          1,
          1,
          3,
          1,
          1,
          1,
          2,
          1,
          3,
          1,
          1,
          1,
          2,
          1,
          4,
          1,
          1,
          1,
          1,
          1,
          1,
          1,
          2,
          1,
          1,
          1,
          1,
          1,
          1,
          1,
          1,
          1,
          1
         ],
         "xbins": {
          "end": 50,
          "size": 2,
          "start": 0
         }
        }
       ],
       "layout": {
        "bargap": 0.2,
        "template": {
         "data": {
          "bar": [
           {
            "error_x": {
             "color": "#2a3f5f"
            },
            "error_y": {
             "color": "#2a3f5f"
            },
            "marker": {
             "line": {
              "color": "#E5ECF6",
              "width": 0.5
             }
            },
            "type": "bar"
           }
          ],
          "barpolar": [
           {
            "marker": {
             "line": {
              "color": "#E5ECF6",
              "width": 0.5
             }
            },
            "type": "barpolar"
           }
          ],
          "carpet": [
           {
            "aaxis": {
             "endlinecolor": "#2a3f5f",
             "gridcolor": "white",
             "linecolor": "white",
             "minorgridcolor": "white",
             "startlinecolor": "#2a3f5f"
            },
            "baxis": {
             "endlinecolor": "#2a3f5f",
             "gridcolor": "white",
             "linecolor": "white",
             "minorgridcolor": "white",
             "startlinecolor": "#2a3f5f"
            },
            "type": "carpet"
           }
          ],
          "choropleth": [
           {
            "colorbar": {
             "outlinewidth": 0,
             "ticks": ""
            },
            "type": "choropleth"
           }
          ],
          "contour": [
           {
            "colorbar": {
             "outlinewidth": 0,
             "ticks": ""
            },
            "colorscale": [
             [
              0,
              "#0d0887"
             ],
             [
              0.1111111111111111,
              "#46039f"
             ],
             [
              0.2222222222222222,
              "#7201a8"
             ],
             [
              0.3333333333333333,
              "#9c179e"
             ],
             [
              0.4444444444444444,
              "#bd3786"
             ],
             [
              0.5555555555555556,
              "#d8576b"
             ],
             [
              0.6666666666666666,
              "#ed7953"
             ],
             [
              0.7777777777777778,
              "#fb9f3a"
             ],
             [
              0.8888888888888888,
              "#fdca26"
             ],
             [
              1,
              "#f0f921"
             ]
            ],
            "type": "contour"
           }
          ],
          "contourcarpet": [
           {
            "colorbar": {
             "outlinewidth": 0,
             "ticks": ""
            },
            "type": "contourcarpet"
           }
          ],
          "heatmap": [
           {
            "colorbar": {
             "outlinewidth": 0,
             "ticks": ""
            },
            "colorscale": [
             [
              0,
              "#0d0887"
             ],
             [
              0.1111111111111111,
              "#46039f"
             ],
             [
              0.2222222222222222,
              "#7201a8"
             ],
             [
              0.3333333333333333,
              "#9c179e"
             ],
             [
              0.4444444444444444,
              "#bd3786"
             ],
             [
              0.5555555555555556,
              "#d8576b"
             ],
             [
              0.6666666666666666,
              "#ed7953"
             ],
             [
              0.7777777777777778,
              "#fb9f3a"
             ],
             [
              0.8888888888888888,
              "#fdca26"
             ],
             [
              1,
              "#f0f921"
             ]
            ],
            "type": "heatmap"
           }
          ],
          "heatmapgl": [
           {
            "colorbar": {
             "outlinewidth": 0,
             "ticks": ""
            },
            "colorscale": [
             [
              0,
              "#0d0887"
             ],
             [
              0.1111111111111111,
              "#46039f"
             ],
             [
              0.2222222222222222,
              "#7201a8"
             ],
             [
              0.3333333333333333,
              "#9c179e"
             ],
             [
              0.4444444444444444,
              "#bd3786"
             ],
             [
              0.5555555555555556,
              "#d8576b"
             ],
             [
              0.6666666666666666,
              "#ed7953"
             ],
             [
              0.7777777777777778,
              "#fb9f3a"
             ],
             [
              0.8888888888888888,
              "#fdca26"
             ],
             [
              1,
              "#f0f921"
             ]
            ],
            "type": "heatmapgl"
           }
          ],
          "histogram": [
           {
            "marker": {
             "colorbar": {
              "outlinewidth": 0,
              "ticks": ""
             }
            },
            "type": "histogram"
           }
          ],
          "histogram2d": [
           {
            "colorbar": {
             "outlinewidth": 0,
             "ticks": ""
            },
            "colorscale": [
             [
              0,
              "#0d0887"
             ],
             [
              0.1111111111111111,
              "#46039f"
             ],
             [
              0.2222222222222222,
              "#7201a8"
             ],
             [
              0.3333333333333333,
              "#9c179e"
             ],
             [
              0.4444444444444444,
              "#bd3786"
             ],
             [
              0.5555555555555556,
              "#d8576b"
             ],
             [
              0.6666666666666666,
              "#ed7953"
             ],
             [
              0.7777777777777778,
              "#fb9f3a"
             ],
             [
              0.8888888888888888,
              "#fdca26"
             ],
             [
              1,
              "#f0f921"
             ]
            ],
            "type": "histogram2d"
           }
          ],
          "histogram2dcontour": [
           {
            "colorbar": {
             "outlinewidth": 0,
             "ticks": ""
            },
            "colorscale": [
             [
              0,
              "#0d0887"
             ],
             [
              0.1111111111111111,
              "#46039f"
             ],
             [
              0.2222222222222222,
              "#7201a8"
             ],
             [
              0.3333333333333333,
              "#9c179e"
             ],
             [
              0.4444444444444444,
              "#bd3786"
             ],
             [
              0.5555555555555556,
              "#d8576b"
             ],
             [
              0.6666666666666666,
              "#ed7953"
             ],
             [
              0.7777777777777778,
              "#fb9f3a"
             ],
             [
              0.8888888888888888,
              "#fdca26"
             ],
             [
              1,
              "#f0f921"
             ]
            ],
            "type": "histogram2dcontour"
           }
          ],
          "mesh3d": [
           {
            "colorbar": {
             "outlinewidth": 0,
             "ticks": ""
            },
            "type": "mesh3d"
           }
          ],
          "parcoords": [
           {
            "line": {
             "colorbar": {
              "outlinewidth": 0,
              "ticks": ""
             }
            },
            "type": "parcoords"
           }
          ],
          "scatter": [
           {
            "marker": {
             "colorbar": {
              "outlinewidth": 0,
              "ticks": ""
             }
            },
            "type": "scatter"
           }
          ],
          "scatter3d": [
           {
            "line": {
             "colorbar": {
              "outlinewidth": 0,
              "ticks": ""
             }
            },
            "marker": {
             "colorbar": {
              "outlinewidth": 0,
              "ticks": ""
             }
            },
            "type": "scatter3d"
           }
          ],
          "scattercarpet": [
           {
            "marker": {
             "colorbar": {
              "outlinewidth": 0,
              "ticks": ""
             }
            },
            "type": "scattercarpet"
           }
          ],
          "scattergeo": [
           {
            "marker": {
             "colorbar": {
              "outlinewidth": 0,
              "ticks": ""
             }
            },
            "type": "scattergeo"
           }
          ],
          "scattergl": [
           {
            "marker": {
             "colorbar": {
              "outlinewidth": 0,
              "ticks": ""
             }
            },
            "type": "scattergl"
           }
          ],
          "scattermapbox": [
           {
            "marker": {
             "colorbar": {
              "outlinewidth": 0,
              "ticks": ""
             }
            },
            "type": "scattermapbox"
           }
          ],
          "scatterpolar": [
           {
            "marker": {
             "colorbar": {
              "outlinewidth": 0,
              "ticks": ""
             }
            },
            "type": "scatterpolar"
           }
          ],
          "scatterpolargl": [
           {
            "marker": {
             "colorbar": {
              "outlinewidth": 0,
              "ticks": ""
             }
            },
            "type": "scatterpolargl"
           }
          ],
          "scatterternary": [
           {
            "marker": {
             "colorbar": {
              "outlinewidth": 0,
              "ticks": ""
             }
            },
            "type": "scatterternary"
           }
          ],
          "surface": [
           {
            "colorbar": {
             "outlinewidth": 0,
             "ticks": ""
            },
            "colorscale": [
             [
              0,
              "#0d0887"
             ],
             [
              0.1111111111111111,
              "#46039f"
             ],
             [
              0.2222222222222222,
              "#7201a8"
             ],
             [
              0.3333333333333333,
              "#9c179e"
             ],
             [
              0.4444444444444444,
              "#bd3786"
             ],
             [
              0.5555555555555556,
              "#d8576b"
             ],
             [
              0.6666666666666666,
              "#ed7953"
             ],
             [
              0.7777777777777778,
              "#fb9f3a"
             ],
             [
              0.8888888888888888,
              "#fdca26"
             ],
             [
              1,
              "#f0f921"
             ]
            ],
            "type": "surface"
           }
          ],
          "table": [
           {
            "cells": {
             "fill": {
              "color": "#EBF0F8"
             },
             "line": {
              "color": "white"
             }
            },
            "header": {
             "fill": {
              "color": "#C8D4E3"
             },
             "line": {
              "color": "white"
             }
            },
            "type": "table"
           }
          ]
         },
         "layout": {
          "annotationdefaults": {
           "arrowcolor": "#2a3f5f",
           "arrowhead": 0,
           "arrowwidth": 1
          },
          "colorscale": {
           "diverging": [
            [
             0,
             "#8e0152"
            ],
            [
             0.1,
             "#c51b7d"
            ],
            [
             0.2,
             "#de77ae"
            ],
            [
             0.3,
             "#f1b6da"
            ],
            [
             0.4,
             "#fde0ef"
            ],
            [
             0.5,
             "#f7f7f7"
            ],
            [
             0.6,
             "#e6f5d0"
            ],
            [
             0.7,
             "#b8e186"
            ],
            [
             0.8,
             "#7fbc41"
            ],
            [
             0.9,
             "#4d9221"
            ],
            [
             1,
             "#276419"
            ]
           ],
           "sequential": [
            [
             0,
             "#0d0887"
            ],
            [
             0.1111111111111111,
             "#46039f"
            ],
            [
             0.2222222222222222,
             "#7201a8"
            ],
            [
             0.3333333333333333,
             "#9c179e"
            ],
            [
             0.4444444444444444,
             "#bd3786"
            ],
            [
             0.5555555555555556,
             "#d8576b"
            ],
            [
             0.6666666666666666,
             "#ed7953"
            ],
            [
             0.7777777777777778,
             "#fb9f3a"
            ],
            [
             0.8888888888888888,
             "#fdca26"
            ],
            [
             1,
             "#f0f921"
            ]
           ],
           "sequentialminus": [
            [
             0,
             "#0d0887"
            ],
            [
             0.1111111111111111,
             "#46039f"
            ],
            [
             0.2222222222222222,
             "#7201a8"
            ],
            [
             0.3333333333333333,
             "#9c179e"
            ],
            [
             0.4444444444444444,
             "#bd3786"
            ],
            [
             0.5555555555555556,
             "#d8576b"
            ],
            [
             0.6666666666666666,
             "#ed7953"
            ],
            [
             0.7777777777777778,
             "#fb9f3a"
            ],
            [
             0.8888888888888888,
             "#fdca26"
            ],
            [
             1,
             "#f0f921"
            ]
           ]
          },
          "colorway": [
           "#636efa",
           "#EF553B",
           "#00cc96",
           "#ab63fa",
           "#FFA15A",
           "#19d3f3",
           "#FF6692",
           "#B6E880",
           "#FF97FF",
           "#FECB52"
          ],
          "font": {
           "color": "#2a3f5f"
          },
          "geo": {
           "bgcolor": "white",
           "lakecolor": "white",
           "landcolor": "#E5ECF6",
           "showlakes": true,
           "showland": true,
           "subunitcolor": "white"
          },
          "hoverlabel": {
           "align": "left"
          },
          "hovermode": "closest",
          "mapbox": {
           "style": "light"
          },
          "paper_bgcolor": "white",
          "plot_bgcolor": "#E5ECF6",
          "polar": {
           "angularaxis": {
            "gridcolor": "white",
            "linecolor": "white",
            "ticks": ""
           },
           "bgcolor": "#E5ECF6",
           "radialaxis": {
            "gridcolor": "white",
            "linecolor": "white",
            "ticks": ""
           }
          },
          "scene": {
           "xaxis": {
            "backgroundcolor": "#E5ECF6",
            "gridcolor": "white",
            "gridwidth": 2,
            "linecolor": "white",
            "showbackground": true,
            "ticks": "",
            "zerolinecolor": "white"
           },
           "yaxis": {
            "backgroundcolor": "#E5ECF6",
            "gridcolor": "white",
            "gridwidth": 2,
            "linecolor": "white",
            "showbackground": true,
            "ticks": "",
            "zerolinecolor": "white"
           },
           "zaxis": {
            "backgroundcolor": "#E5ECF6",
            "gridcolor": "white",
            "gridwidth": 2,
            "linecolor": "white",
            "showbackground": true,
            "ticks": "",
            "zerolinecolor": "white"
           }
          },
          "shapedefaults": {
           "line": {
            "color": "#2a3f5f"
           }
          },
          "ternary": {
           "aaxis": {
            "gridcolor": "white",
            "linecolor": "white",
            "ticks": ""
           },
           "baxis": {
            "gridcolor": "white",
            "linecolor": "white",
            "ticks": ""
           },
           "bgcolor": "#E5ECF6",
           "caxis": {
            "gridcolor": "white",
            "linecolor": "white",
            "ticks": ""
           }
          },
          "title": {
           "x": 0.05
          },
          "xaxis": {
           "automargin": true,
           "gridcolor": "white",
           "linecolor": "white",
           "ticks": "",
           "zerolinecolor": "white",
           "zerolinewidth": 2
          },
          "yaxis": {
           "automargin": true,
           "gridcolor": "white",
           "linecolor": "white",
           "ticks": "",
           "zerolinecolor": "white",
           "zerolinewidth": 2
          }
         }
        },
        "title": {
         "text": "Distribution of Ratings Per Movie"
        },
        "xaxis": {
         "title": {
          "text": "Ratings / Movie "
         }
        },
        "yaxis": {
         "title": {
          "text": "Count"
         }
        }
       }
      },
      "text/html": [
       "<div>\n",
       "        \n",
       "        \n",
       "            <div id=\"6d508681-3f5b-4bd9-a668-bd98549ae3d9\" class=\"plotly-graph-div\" style=\"height:525px; width:100%;\"></div>\n",
       "            <script type=\"text/javascript\">\n",
       "                require([\"plotly\"], function(Plotly) {\n",
       "                    window.PLOTLYENV=window.PLOTLYENV || {};\n",
       "                    \n",
       "                if (document.getElementById(\"6d508681-3f5b-4bd9-a668-bd98549ae3d9\")) {\n",
       "                    Plotly.newPlot(\n",
       "                        '6d508681-3f5b-4bd9-a668-bd98549ae3d9',\n",
       "                        [{\"name\": \"Ratings\", \"type\": \"histogram\", \"x\": [452, 131, 90, 209, 86, 26, 392, 219, 299, 89, 236, 267, 184, 183, 293, 39, 92, 10, 69, 72, 84, 297, 182, 174, 293, 73, 57, 276, 114, 37, 154, 81, 97, 7, 11, 13, 8, 120, 87, 57, 37, 148, 40, 79, 80, 27, 133, 117, 81, 583, 81, 91, 128, 104, 149, 394, 40, 175, 83, 64, 59, 127, 82, 283, 115, 162, 103, 134, 321, 251, 220, 129, 128, 7, 5, 54, 151, 33, 336, 68, 110, 261, 176, 18, 58, 150, 138, 213, 275, 95, 143, 104, 112, 137, 219, 295, 256, 390, 172, 508, 73, 54, 15, 5, 74, 71, 42, 65, 130, 31, 272, 20, 9, 67, 15, 125, 378, 293, 4, 67, 429, 106, 115, 187, 244, 97, 413, 65, 129, 23, 95, 246, 171, 198, 259, 105, 171, 19, 50, 61, 72, 57, 222, 243, 65, 10, 185, 128, 23, 157, 326, 82, 247, 174, 98, 148, 127, 60, 101, 69, 220, 106, 92, 151, 64, 58, 67, 316, 118, 121, 65, 367, 324, 420, 208, 284, 137, 125, 221, 221, 507, 226, 291, 116, 239, 251, 209, 170, 66, 124, 276, 116, 157, 241, 301, 251, 239, 127, 165, 206, 89, 280, 182, 350, 136, 50, 66, 200, 191, 331, 206, 92, 134, 114, 212, 290, 120, 171, 111, 66, 74, 365, 136, 44, 109, 166, 161, 244, 171, 199, 142, 101, 124, 280, 217, 45, 384, 256, 150, 156, 128, 117, 132, 48, 240, 124, 5, 160, 130, 197, 46, 158, 26, 62, 172, 16, 303, 509, 162, 127, 43, 66, 19, 101, 227, 35, 9, 255, 315, 136, 211, 198, 223, 190, 268, 298, 71, 60, 28, 85, 146, 232, 177, 193, 162, 481, 78, 478, 259, 96, 127, 114, 147, 485, 77, 6, 50, 194, 73, 431, 230, 297, 134, 149, 87, 96, 188, 30, 28, 145, 75, 80, 350, 5, 160, 112, 102, 298, 168, 20, 169, 218, 240, 125, 128, 175, 175, 295, 45, 41, 113, 143, 251, 64, 21, 43, 18, 91, 47, 189, 11, 52, 124, 55, 65, 126, 137, 27, 31, 41, 20, 26, 14, 72, 41, 97, 264, 143, 18, 10, 10, 28, 47, 37, 48, 47, 170, 31, 55, 39, 67, 34, 39, 11, 23, 24, 13, 101, 43, 116, 100, 111, 31, 69, 208, 87, 65, 28, 27, 10, 59, 68, 192, 12, 56, 54, 12, 26, 89, 18, 76, 170, 201, 101, 344, 49, 43, 112, 70, 162, 163, 93, 55, 62, 25, 64, 73, 129, 178, 81, 106, 26, 300, 19, 85, 32, 219, 121, 97, 93, 153, 174, 171, 67, 216, 99, 5, 6, 5, 14, 53, 4, 162, 46, 22, 9, 121, 85, 117, 63, 170, 66, 16, 16, 145, 48, 27, 90, 24, 28, 74, 148, 71, 27, 85, 52, 48, 64, 67, 108, 221, 158, 126, 194, 250, 160, 95, 104, 179, 179, 63, 128, 243, 138, 125, 64, 68, 65, 52, 50, 67, 59, 60, 56, 59, 231, 68, 152, 62, 31, 123, 57, 39, 122, 68, 90, 98, 215, 121, 121, 173, 57, 72, 180, 201, 63, 91, 89, 80, 124, 120, 35, 164, 46, 73, 124, 195, 121, 93, 80, 129, 22, 15, 13, 54, 10, 30, 66, 44, 43, 49, 51, 21, 71, 12, 254, 41, 12, 92, 151, 24, 45, 63, 102, 10, 12, 17, 70, 137, 22, 59, 48, 29, 27, 22, 179, 35, 230, 67, 50, 28, 29, 33, 15, 44, 93, 41, 92, 19, 32, 59, 168, 37, 79, 39, 34, 14, 202, 43, 18, 178, 9, 12, 5, 64, 127, 206, 4, 1, 2, 20, 50, 209, 81, 31, 66, 66, 30, 60, 41, 40, 34, 27, 51, 59, 64, 18, 18, 64, 43, 11, 39, 39, 22, 82, 4, 75, 169, 77, 31, 119, 58, 69, 24, 23, 91, 38, 44, 40, 82, 33, 89, 4, 35, 27, 38, 70, 67, 50, 72, 171, 90, 34, 147, 227, 44, 131, 79, 115, 153, 88, 82, 116, 46, 100, 5, 12, 6, 13, 36, 46, 65, 86, 48, 54, 77, 1, 219, 107, 34, 27, 100, 49, 169, 157, 50, 69, 44, 87, 155, 16, 164, 91, 44, 13, 79, 40, 10, 102, 15, 10, 53, 19, 24, 137, 6, 70, 101, 104, 79, 1, 51, 72, 13, 87, 58, 82, 16, 29, 86, 54, 58, 34, 76, 16, 14, 63, 45, 81, 24, 39, 180, 15, 27, 137, 78, 59, 31, 164, 63, 58, 267, 39, 92, 16, 119, 102, 316, 51, 124, 180, 39, 24, 57, 96, 128, 4, 21, 11, 46, 44, 115, 149, 29, 32, 9, 11, 52, 42, 57, 41, 49, 17, 32, 26, 9, 4, 76, 31, 69, 84, 10, 37, 2, 39, 14, 13, 3, 47, 66, 10, 86, 10, 46, 21, 36, 31, 9, 5, 26, 16, 40, 9, 8, 27, 50, 9, 31, 43, 45, 18, 18, 56, 1, 112, 21, 3, 25, 40, 93, 22, 4, 82, 49, 83, 80, 57, 13, 34, 1, 91, 22, 49, 25, 15, 26, 25, 4, 4, 53, 48, 27, 30, 42, 176, 44, 55, 9, 53, 4, 4, 1, 14, 16, 66, 36, 1, 3, 15, 16, 3, 18, 24, 86, 21, 119, 6, 5, 24, 9, 75, 42, 81, 39, 53, 47, 52, 33, 136, 59, 45, 34, 13, 7, 13, 53, 64, 15, 13, 43, 6, 53, 14, 19, 106, 44, 2, 58, 9, 42, 12, 42, 18, 20, 27, 21, 2, 20, 13, 4, 4, 9, 2, 11, 13, 18, 7, 8, 96, 5, 46, 34, 58, 85, 34, 101, 6, 104, 40, 80, 57, 40, 21, 68, 7, 32, 37, 25, 60, 32, 46, 45, 40, 43, 40, 61, 17, 48, 71, 30, 39, 45, 22, 11, 49, 46, 2, 14, 64, 25, 34, 23, 41, 9, 21, 26, 12, 18, 75, 8, 34, 28, 4, 32, 44, 12, 49, 27, 35, 22, 8, 20, 15, 44, 22, 23, 4, 86, 32, 33, 25, 4, 66, 7, 31, 14, 16, 16, 10, 10, 17, 8, 8, 9, 22, 23, 47, 37, 64, 44, 93, 100, 38, 98, 12, 137, 50, 32, 31, 35, 38, 32, 31, 15, 44, 4, 3, 148, 14, 20, 7, 16, 32, 27, 68, 24, 24, 17, 90, 25, 62, 28, 8, 40, 25, 46, 134, 73, 25, 43, 41, 25, 24, 23, 10, 10, 22, 15, 35, 39, 29, 12, 41, 4, 53, 16, 44, 12, 18, 27, 16, 7, 66, 77, 7, 12, 8, 22, 45, 2, 8, 8, 6, 21, 11, 21, 10, 13, 38, 37, 43, 12, 23, 12, 29, 3, 18, 42, 13, 8, 74, 7, 19, 4, 18, 4, 18, 5, 28, 41, 7, 15, 22, 10, 29, 13, 19, 47, 59, 17, 21, 1, 3, 12, 4, 32, 11, 13, 28, 1, 13, 32, 30, 38, 46, 29, 29, 5, 33, 17, 9, 44, 15, 3, 9, 3, 21, 9, 26, 9, 7, 28, 19, 12, 3, 1, 25, 4, 11, 26, 13, 5, 25, 6, 14, 12, 11, 22, 10, 27, 14, 15, 7, 8, 5, 22, 7, 19, 9, 10, 10, 13, 19, 10, 18, 3, 13, 44, 3, 11, 3, 13, 10, 31, 11, 3, 45, 7, 23, 7, 1, 8, 21, 18, 6, 19, 17, 20, 15, 38, 12, 6, 6, 9, 30, 6, 39, 26, 20, 30, 39, 25, 4, 12, 14, 32, 8, 48, 13, 18, 22, 17, 6, 8, 1, 1, 6, 8, 18, 26, 6, 5, 7, 36, 19, 7, 6, 19, 12, 6, 8, 9, 7, 11, 8, 3, 4, 23, 4, 4, 4, 8, 15, 7, 19, 12, 33, 10, 10, 7, 7, 5, 15, 11, 4, 8, 19, 16, 9, 16, 13, 9, 19, 26, 15, 17, 6, 7, 7, 2, 15, 3, 3, 7, 7, 20, 12, 9, 8, 9, 5, 5, 18, 2, 7, 2, 2, 2, 1, 1, 16, 7, 14, 11, 23, 7, 4, 3, 4, 1, 2, 6, 3, 5, 1, 6, 3, 6, 1, 4, 4, 2, 5, 2, 11, 10, 9, 4, 1, 1, 1, 2, 1, 5, 2, 5, 4, 1, 1, 2, 3, 1, 5, 2, 6, 3, 3, 2, 2, 2, 3, 2, 1, 1, 2, 1, 5, 6, 4, 3, 2, 3, 1, 2, 10, 7, 4, 5, 7, 6, 8, 4, 6, 3, 5, 6, 3, 6, 3, 2, 3, 5, 9, 7, 6, 5, 5, 2, 7, 10, 18, 4, 4, 13, 6, 5, 20, 3, 7, 4, 28, 6, 8, 1, 9, 5, 2, 3, 16, 3, 11, 4, 4, 3, 10, 8, 5, 12, 4, 3, 5, 3, 2, 10, 7, 2, 9, 5, 8, 5, 7, 5, 4, 19, 4, 15, 1, 3, 8, 2, 15, 1, 1, 6, 2, 7, 1, 1, 7, 1, 1, 7, 3, 3, 3, 6, 2, 6, 12, 5, 9, 2, 9, 6, 8, 1, 2, 18, 8, 11, 2, 1, 12, 3, 4, 1, 5, 4, 5, 3, 2, 1, 1, 1, 5, 5, 2, 1, 4, 2, 5, 2, 10, 3, 1, 3, 1, 3, 5, 1, 5, 6, 3, 7, 1, 3, 5, 12, 2, 1, 4, 7, 2, 8, 1, 1, 7, 3, 5, 5, 7, 2, 1, 6, 4, 1, 4, 3, 4, 10, 2, 2, 1, 3, 4, 1, 2, 1, 2, 2, 2, 3, 4, 2, 5, 2, 1, 7, 1, 4, 1, 1, 1, 1, 1, 1, 1, 1, 1, 1, 1, 1, 2, 1, 1, 1, 1, 2, 1, 1, 1, 1, 1, 1, 2, 1, 1, 2, 4, 2, 6, 5, 1, 2, 1, 1, 5, 6, 1, 4, 1, 3, 1, 1, 4, 1, 3, 4, 3, 3, 2, 4, 1, 1, 10, 1, 2, 1, 1, 9, 1, 3, 3, 1, 1, 1, 1, 4, 2, 1, 2, 1, 1, 1, 1, 1, 1, 1, 3, 1, 1, 2, 4, 2, 1, 2, 1, 1, 1, 1, 1, 3, 1, 1, 1, 2, 1, 3, 1, 1, 1, 2, 1, 4, 1, 1, 1, 1, 1, 1, 1, 2, 1, 1, 1, 1, 1, 1, 1, 1, 1, 1], \"xbins\": {\"end\": 50, \"size\": 2, \"start\": 0}}],\n",
       "                        {\"bargap\": 0.2, \"template\": {\"data\": {\"bar\": [{\"error_x\": {\"color\": \"#2a3f5f\"}, \"error_y\": {\"color\": \"#2a3f5f\"}, \"marker\": {\"line\": {\"color\": \"#E5ECF6\", \"width\": 0.5}}, \"type\": \"bar\"}], \"barpolar\": [{\"marker\": {\"line\": {\"color\": \"#E5ECF6\", \"width\": 0.5}}, \"type\": \"barpolar\"}], \"carpet\": [{\"aaxis\": {\"endlinecolor\": \"#2a3f5f\", \"gridcolor\": \"white\", \"linecolor\": \"white\", \"minorgridcolor\": \"white\", \"startlinecolor\": \"#2a3f5f\"}, \"baxis\": {\"endlinecolor\": \"#2a3f5f\", \"gridcolor\": \"white\", \"linecolor\": \"white\", \"minorgridcolor\": \"white\", \"startlinecolor\": \"#2a3f5f\"}, \"type\": \"carpet\"}], \"choropleth\": [{\"colorbar\": {\"outlinewidth\": 0, \"ticks\": \"\"}, \"type\": \"choropleth\"}], \"contour\": [{\"colorbar\": {\"outlinewidth\": 0, \"ticks\": \"\"}, \"colorscale\": [[0.0, \"#0d0887\"], [0.1111111111111111, \"#46039f\"], [0.2222222222222222, \"#7201a8\"], [0.3333333333333333, \"#9c179e\"], [0.4444444444444444, \"#bd3786\"], [0.5555555555555556, \"#d8576b\"], [0.6666666666666666, \"#ed7953\"], [0.7777777777777778, \"#fb9f3a\"], [0.8888888888888888, \"#fdca26\"], [1.0, \"#f0f921\"]], \"type\": \"contour\"}], \"contourcarpet\": [{\"colorbar\": {\"outlinewidth\": 0, \"ticks\": \"\"}, \"type\": \"contourcarpet\"}], \"heatmap\": [{\"colorbar\": {\"outlinewidth\": 0, \"ticks\": \"\"}, \"colorscale\": [[0.0, \"#0d0887\"], [0.1111111111111111, \"#46039f\"], [0.2222222222222222, \"#7201a8\"], [0.3333333333333333, \"#9c179e\"], [0.4444444444444444, \"#bd3786\"], [0.5555555555555556, \"#d8576b\"], [0.6666666666666666, \"#ed7953\"], [0.7777777777777778, \"#fb9f3a\"], [0.8888888888888888, \"#fdca26\"], [1.0, \"#f0f921\"]], \"type\": \"heatmap\"}], \"heatmapgl\": [{\"colorbar\": {\"outlinewidth\": 0, \"ticks\": \"\"}, \"colorscale\": [[0.0, \"#0d0887\"], [0.1111111111111111, \"#46039f\"], [0.2222222222222222, \"#7201a8\"], [0.3333333333333333, \"#9c179e\"], [0.4444444444444444, \"#bd3786\"], [0.5555555555555556, \"#d8576b\"], [0.6666666666666666, \"#ed7953\"], [0.7777777777777778, \"#fb9f3a\"], [0.8888888888888888, \"#fdca26\"], [1.0, \"#f0f921\"]], \"type\": \"heatmapgl\"}], \"histogram\": [{\"marker\": {\"colorbar\": {\"outlinewidth\": 0, \"ticks\": \"\"}}, \"type\": \"histogram\"}], \"histogram2d\": [{\"colorbar\": {\"outlinewidth\": 0, \"ticks\": \"\"}, \"colorscale\": [[0.0, \"#0d0887\"], [0.1111111111111111, \"#46039f\"], [0.2222222222222222, \"#7201a8\"], [0.3333333333333333, \"#9c179e\"], [0.4444444444444444, \"#bd3786\"], [0.5555555555555556, \"#d8576b\"], [0.6666666666666666, \"#ed7953\"], [0.7777777777777778, \"#fb9f3a\"], [0.8888888888888888, \"#fdca26\"], [1.0, \"#f0f921\"]], \"type\": \"histogram2d\"}], \"histogram2dcontour\": [{\"colorbar\": {\"outlinewidth\": 0, \"ticks\": \"\"}, \"colorscale\": [[0.0, \"#0d0887\"], [0.1111111111111111, \"#46039f\"], [0.2222222222222222, \"#7201a8\"], [0.3333333333333333, \"#9c179e\"], [0.4444444444444444, \"#bd3786\"], [0.5555555555555556, \"#d8576b\"], [0.6666666666666666, \"#ed7953\"], [0.7777777777777778, \"#fb9f3a\"], [0.8888888888888888, \"#fdca26\"], [1.0, \"#f0f921\"]], \"type\": \"histogram2dcontour\"}], \"mesh3d\": [{\"colorbar\": {\"outlinewidth\": 0, \"ticks\": \"\"}, \"type\": \"mesh3d\"}], \"parcoords\": [{\"line\": {\"colorbar\": {\"outlinewidth\": 0, \"ticks\": \"\"}}, \"type\": \"parcoords\"}], \"scatter\": [{\"marker\": {\"colorbar\": {\"outlinewidth\": 0, \"ticks\": \"\"}}, \"type\": \"scatter\"}], \"scatter3d\": [{\"line\": {\"colorbar\": {\"outlinewidth\": 0, \"ticks\": \"\"}}, \"marker\": {\"colorbar\": {\"outlinewidth\": 0, \"ticks\": \"\"}}, \"type\": \"scatter3d\"}], \"scattercarpet\": [{\"marker\": {\"colorbar\": {\"outlinewidth\": 0, \"ticks\": \"\"}}, \"type\": \"scattercarpet\"}], \"scattergeo\": [{\"marker\": {\"colorbar\": {\"outlinewidth\": 0, \"ticks\": \"\"}}, \"type\": \"scattergeo\"}], \"scattergl\": [{\"marker\": {\"colorbar\": {\"outlinewidth\": 0, \"ticks\": \"\"}}, \"type\": \"scattergl\"}], \"scattermapbox\": [{\"marker\": {\"colorbar\": {\"outlinewidth\": 0, \"ticks\": \"\"}}, \"type\": \"scattermapbox\"}], \"scatterpolar\": [{\"marker\": {\"colorbar\": {\"outlinewidth\": 0, \"ticks\": \"\"}}, \"type\": \"scatterpolar\"}], \"scatterpolargl\": [{\"marker\": {\"colorbar\": {\"outlinewidth\": 0, \"ticks\": \"\"}}, \"type\": \"scatterpolargl\"}], \"scatterternary\": [{\"marker\": {\"colorbar\": {\"outlinewidth\": 0, \"ticks\": \"\"}}, \"type\": \"scatterternary\"}], \"surface\": [{\"colorbar\": {\"outlinewidth\": 0, \"ticks\": \"\"}, \"colorscale\": [[0.0, \"#0d0887\"], [0.1111111111111111, \"#46039f\"], [0.2222222222222222, \"#7201a8\"], [0.3333333333333333, \"#9c179e\"], [0.4444444444444444, \"#bd3786\"], [0.5555555555555556, \"#d8576b\"], [0.6666666666666666, \"#ed7953\"], [0.7777777777777778, \"#fb9f3a\"], [0.8888888888888888, \"#fdca26\"], [1.0, \"#f0f921\"]], \"type\": \"surface\"}], \"table\": [{\"cells\": {\"fill\": {\"color\": \"#EBF0F8\"}, \"line\": {\"color\": \"white\"}}, \"header\": {\"fill\": {\"color\": \"#C8D4E3\"}, \"line\": {\"color\": \"white\"}}, \"type\": \"table\"}]}, \"layout\": {\"annotationdefaults\": {\"arrowcolor\": \"#2a3f5f\", \"arrowhead\": 0, \"arrowwidth\": 1}, \"colorscale\": {\"diverging\": [[0, \"#8e0152\"], [0.1, \"#c51b7d\"], [0.2, \"#de77ae\"], [0.3, \"#f1b6da\"], [0.4, \"#fde0ef\"], [0.5, \"#f7f7f7\"], [0.6, \"#e6f5d0\"], [0.7, \"#b8e186\"], [0.8, \"#7fbc41\"], [0.9, \"#4d9221\"], [1, \"#276419\"]], \"sequential\": [[0.0, \"#0d0887\"], [0.1111111111111111, \"#46039f\"], [0.2222222222222222, \"#7201a8\"], [0.3333333333333333, \"#9c179e\"], [0.4444444444444444, \"#bd3786\"], [0.5555555555555556, \"#d8576b\"], [0.6666666666666666, \"#ed7953\"], [0.7777777777777778, \"#fb9f3a\"], [0.8888888888888888, \"#fdca26\"], [1.0, \"#f0f921\"]], \"sequentialminus\": [[0.0, \"#0d0887\"], [0.1111111111111111, \"#46039f\"], [0.2222222222222222, \"#7201a8\"], [0.3333333333333333, \"#9c179e\"], [0.4444444444444444, \"#bd3786\"], [0.5555555555555556, \"#d8576b\"], [0.6666666666666666, \"#ed7953\"], [0.7777777777777778, \"#fb9f3a\"], [0.8888888888888888, \"#fdca26\"], [1.0, \"#f0f921\"]]}, \"colorway\": [\"#636efa\", \"#EF553B\", \"#00cc96\", \"#ab63fa\", \"#FFA15A\", \"#19d3f3\", \"#FF6692\", \"#B6E880\", \"#FF97FF\", \"#FECB52\"], \"font\": {\"color\": \"#2a3f5f\"}, \"geo\": {\"bgcolor\": \"white\", \"lakecolor\": \"white\", \"landcolor\": \"#E5ECF6\", \"showlakes\": true, \"showland\": true, \"subunitcolor\": \"white\"}, \"hoverlabel\": {\"align\": \"left\"}, \"hovermode\": \"closest\", \"mapbox\": {\"style\": \"light\"}, \"paper_bgcolor\": \"white\", \"plot_bgcolor\": \"#E5ECF6\", \"polar\": {\"angularaxis\": {\"gridcolor\": \"white\", \"linecolor\": \"white\", \"ticks\": \"\"}, \"bgcolor\": \"#E5ECF6\", \"radialaxis\": {\"gridcolor\": \"white\", \"linecolor\": \"white\", \"ticks\": \"\"}}, \"scene\": {\"xaxis\": {\"backgroundcolor\": \"#E5ECF6\", \"gridcolor\": \"white\", \"gridwidth\": 2, \"linecolor\": \"white\", \"showbackground\": true, \"ticks\": \"\", \"zerolinecolor\": \"white\"}, \"yaxis\": {\"backgroundcolor\": \"#E5ECF6\", \"gridcolor\": \"white\", \"gridwidth\": 2, \"linecolor\": \"white\", \"showbackground\": true, \"ticks\": \"\", \"zerolinecolor\": \"white\"}, \"zaxis\": {\"backgroundcolor\": \"#E5ECF6\", \"gridcolor\": \"white\", \"gridwidth\": 2, \"linecolor\": \"white\", \"showbackground\": true, \"ticks\": \"\", \"zerolinecolor\": \"white\"}}, \"shapedefaults\": {\"line\": {\"color\": \"#2a3f5f\"}}, \"ternary\": {\"aaxis\": {\"gridcolor\": \"white\", \"linecolor\": \"white\", \"ticks\": \"\"}, \"baxis\": {\"gridcolor\": \"white\", \"linecolor\": \"white\", \"ticks\": \"\"}, \"bgcolor\": \"#E5ECF6\", \"caxis\": {\"gridcolor\": \"white\", \"linecolor\": \"white\", \"ticks\": \"\"}}, \"title\": {\"x\": 0.05}, \"xaxis\": {\"automargin\": true, \"gridcolor\": \"white\", \"linecolor\": \"white\", \"ticks\": \"\", \"zerolinecolor\": \"white\", \"zerolinewidth\": 2}, \"yaxis\": {\"automargin\": true, \"gridcolor\": \"white\", \"linecolor\": \"white\", \"ticks\": \"\", \"zerolinecolor\": \"white\", \"zerolinewidth\": 2}}}, \"title\": {\"text\": \"Distribution of Ratings Per Movie\"}, \"xaxis\": {\"title\": {\"text\": \"Ratings / Movie \"}}, \"yaxis\": {\"title\": {\"text\": \"Count\"}}},\n",
       "                        {\"responsive\": true}\n",
       "                    ).then(function(){\n",
       "                            \n",
       "var gd = document.getElementById('6d508681-3f5b-4bd9-a668-bd98549ae3d9');\n",
       "var x = new MutationObserver(function (mutations, observer) {{\n",
       "        var display = window.getComputedStyle(gd).display;\n",
       "        if (!display || display === 'none') {{\n",
       "            console.log([gd, 'removed!']);\n",
       "            Plotly.purge(gd);\n",
       "            observer.disconnect();\n",
       "        }}\n",
       "}});\n",
       "\n",
       "// Listen for the removal of the full notebook cells\n",
       "var notebookContainer = gd.closest('#notebook-container');\n",
       "if (notebookContainer) {{\n",
       "    x.observe(notebookContainer, {childList: true});\n",
       "}}\n",
       "\n",
       "// Listen for the clearing of the current output cell\n",
       "var outputEl = gd.closest('.output');\n",
       "if (outputEl) {{\n",
       "    x.observe(outputEl, {childList: true});\n",
       "}}\n",
       "\n",
       "                        })\n",
       "                };\n",
       "                });\n",
       "            </script>\n",
       "        </div>"
      ]
     },
     "metadata": {},
     "output_type": "display_data"
    }
   ],
   "source": [
    "\n",
    "\n",
    "data = user_ratings.groupby('movie_id')['rating'].count()\n",
    "\n",
    "\n",
    "trace = go.Histogram(x = data.values,\n",
    "                     name = 'Ratings',\n",
    "                     xbins = {\n",
    "                         'start' : 0,\n",
    "                         'end' : 50,\n",
    "                         'size' : 2\n",
    "                     })\n",
    "\n",
    "\n",
    "fig = go.Figure(data=[trace], layout={\n",
    "    'title' : 'Distribution of Ratings Per Movie',\n",
    "    'xaxis' : {'title' : 'Ratings / Movie '},\n",
    "    'yaxis' : {'title' : 'Count'},\n",
    "    'bargap' : 0.2\n",
    "})\n",
    "iplot(fig)"
   ]
  },
  {
   "cell_type": "code",
   "execution_count": 66,
   "metadata": {},
   "outputs": [
    {
     "data": {
      "text/html": [
       "<div>\n",
       "<style scoped>\n",
       "    .dataframe tbody tr th:only-of-type {\n",
       "        vertical-align: middle;\n",
       "    }\n",
       "\n",
       "    .dataframe tbody tr th {\n",
       "        vertical-align: top;\n",
       "    }\n",
       "\n",
       "    .dataframe thead th {\n",
       "        text-align: right;\n",
       "    }\n",
       "</style>\n",
       "<table border=\"1\" class=\"dataframe\">\n",
       "  <thead>\n",
       "    <tr style=\"text-align: right;\">\n",
       "      <th></th>\n",
       "      <th>movie_id</th>\n",
       "      <th>rating</th>\n",
       "    </tr>\n",
       "  </thead>\n",
       "  <tbody>\n",
       "    <tr>\n",
       "      <th>49</th>\n",
       "      <td>50</td>\n",
       "      <td>583</td>\n",
       "    </tr>\n",
       "    <tr>\n",
       "      <th>257</th>\n",
       "      <td>258</td>\n",
       "      <td>509</td>\n",
       "    </tr>\n",
       "    <tr>\n",
       "      <th>99</th>\n",
       "      <td>100</td>\n",
       "      <td>508</td>\n",
       "    </tr>\n",
       "    <tr>\n",
       "      <th>180</th>\n",
       "      <td>181</td>\n",
       "      <td>507</td>\n",
       "    </tr>\n",
       "    <tr>\n",
       "      <th>293</th>\n",
       "      <td>294</td>\n",
       "      <td>485</td>\n",
       "    </tr>\n",
       "    <tr>\n",
       "      <th>285</th>\n",
       "      <td>286</td>\n",
       "      <td>481</td>\n",
       "    </tr>\n",
       "    <tr>\n",
       "      <th>287</th>\n",
       "      <td>288</td>\n",
       "      <td>478</td>\n",
       "    </tr>\n",
       "    <tr>\n",
       "      <th>0</th>\n",
       "      <td>1</td>\n",
       "      <td>452</td>\n",
       "    </tr>\n",
       "    <tr>\n",
       "      <th>299</th>\n",
       "      <td>300</td>\n",
       "      <td>431</td>\n",
       "    </tr>\n",
       "    <tr>\n",
       "      <th>120</th>\n",
       "      <td>121</td>\n",
       "      <td>429</td>\n",
       "    </tr>\n",
       "  </tbody>\n",
       "</table>\n",
       "</div>"
      ],
      "text/plain": [
       "     movie_id  rating\n",
       "49         50     583\n",
       "257       258     509\n",
       "99        100     508\n",
       "180       181     507\n",
       "293       294     485\n",
       "285       286     481\n",
       "287       288     478\n",
       "0           1     452\n",
       "299       300     431\n",
       "120       121     429"
      ]
     },
     "execution_count": 66,
     "metadata": {},
     "output_type": "execute_result"
    }
   ],
   "source": [
    "user_ratings.groupby('movie_id')['rating'].count().reset_index().sort_values('rating', ascending=False)[:10]"
   ]
  },
  {
   "cell_type": "code",
   "execution_count": 67,
   "metadata": {
    "scrolled": true
   },
   "outputs": [
    {
     "data": {
      "application/vnd.plotly.v1+json": {
       "config": {
        "linkText": "Export to plot.ly",
        "plotlyServerURL": "https://plot.ly",
        "showLink": false
       },
       "data": [
        {
         "name": "Ratings",
         "type": "histogram",
         "x": [
          50,
          50,
          50,
          24,
          50,
          50,
          50,
          50,
          22,
          50,
          50,
          50,
          50,
          50,
          50,
          50,
          28,
          50,
          20,
          48,
          50,
          50,
          50,
          50,
          50,
          50,
          25,
          50,
          34,
          43,
          36,
          41,
          24,
          20,
          25,
          20,
          50,
          50,
          22,
          35,
          50,
          50,
          50,
          50,
          48,
          27,
          25,
          50,
          50,
          24,
          23,
          50,
          28,
          50,
          21,
          50,
          50,
          50,
          50,
          50,
          21,
          50,
          50,
          50,
          50,
          38,
          30,
          34,
          50,
          50,
          38,
          50,
          50,
          39,
          50,
          50,
          50,
          21,
          50,
          29,
          50,
          50,
          50,
          50,
          50,
          23,
          50,
          21,
          50,
          50,
          50,
          50,
          20,
          50,
          50,
          50,
          50,
          27,
          50,
          50,
          50,
          50,
          29,
          50,
          23,
          50,
          22,
          33,
          50,
          50,
          24,
          46,
          50,
          48,
          50,
          50,
          50,
          50,
          50,
          26,
          50,
          50,
          50,
          24,
          50,
          45,
          23,
          50,
          30,
          50,
          30,
          22,
          26,
          25,
          50,
          35,
          47,
          50,
          24,
          21,
          50,
          33,
          20,
          50,
          50,
          29,
          20,
          50,
          36,
          32,
          50,
          50,
          23,
          50,
          22,
          37,
          50,
          50,
          50,
          50,
          50,
          42,
          23,
          50,
          30,
          20,
          50,
          50,
          37,
          22,
          28,
          27,
          43,
          50,
          38,
          50,
          50,
          50,
          42,
          50,
          50,
          28,
          50,
          50,
          48,
          50,
          50,
          50,
          50,
          50,
          27,
          35,
          50,
          50,
          50,
          39,
          50,
          50,
          40,
          50,
          50,
          20,
          43,
          42,
          22,
          50,
          50,
          33,
          33,
          50,
          37,
          25,
          50,
          50,
          50,
          50,
          50,
          50,
          28,
          22,
          50,
          50,
          50,
          50,
          27,
          50,
          50,
          21,
          30,
          50,
          21,
          50,
          50,
          50,
          50,
          50,
          48,
          29,
          50,
          24,
          23,
          20,
          50,
          50,
          22,
          50,
          26,
          50,
          50,
          50,
          50,
          21,
          50,
          50,
          50,
          50,
          50,
          23,
          46,
          24,
          27,
          50,
          50,
          50,
          46,
          23,
          50,
          50,
          50,
          50,
          50,
          50,
          22,
          50,
          50,
          50,
          50,
          23,
          50,
          50,
          26,
          22,
          50,
          47,
          32,
          50,
          50,
          50,
          27,
          50,
          50,
          50,
          50,
          50,
          50,
          50,
          50,
          50,
          50,
          20,
          50,
          21,
          50,
          26,
          50,
          32,
          50,
          50,
          20,
          21,
          50,
          50,
          50,
          50,
          50,
          50,
          22,
          50,
          23,
          50,
          50,
          50,
          50,
          50,
          50,
          50,
          50,
          50,
          50,
          50,
          50,
          50,
          26,
          50,
          22,
          50,
          34,
          50,
          50,
          44,
          21,
          50,
          50,
          50,
          50,
          50,
          50,
          50,
          41,
          50,
          44,
          42,
          25,
          50,
          26,
          24,
          50,
          43,
          27,
          50,
          50,
          25,
          50,
          20,
          50,
          33,
          50,
          45,
          22,
          50,
          50,
          50,
          50,
          50,
          28,
          30,
          33,
          50,
          50,
          50,
          50,
          50,
          50,
          22,
          50,
          23,
          50,
          50,
          50,
          31,
          50,
          50,
          50,
          50,
          50,
          50,
          50,
          50,
          50,
          22,
          50,
          50,
          50,
          44,
          50,
          50,
          50,
          27,
          50,
          28,
          50,
          50,
          50,
          25,
          24,
          50,
          50,
          20,
          32,
          36,
          50,
          50,
          50,
          44,
          50,
          50,
          31,
          50,
          50,
          50,
          21,
          50,
          41,
          44,
          50,
          50,
          50,
          33,
          31,
          50,
          20,
          50,
          24,
          24,
          50,
          36,
          50,
          38,
          50,
          50,
          50,
          50,
          50,
          50,
          50,
          50,
          50,
          50,
          50,
          50,
          23,
          33,
          50,
          50,
          50,
          50,
          44,
          50,
          43,
          50,
          31,
          50,
          35,
          50,
          20,
          50,
          35,
          50,
          50,
          50,
          50,
          26,
          50,
          50,
          26,
          50,
          50,
          50,
          50,
          50,
          33,
          50,
          50,
          47,
          50,
          50,
          50,
          50,
          50,
          50,
          50,
          37,
          50,
          50,
          50,
          50,
          50,
          50,
          33,
          30,
          24,
          21,
          22,
          50,
          40,
          21,
          37,
          50,
          49,
          23,
          50,
          30,
          50,
          50,
          50,
          50,
          50,
          50,
          43,
          45,
          30,
          50,
          50,
          50,
          50,
          50,
          50,
          50,
          50,
          50,
          50,
          50,
          50,
          31,
          50,
          50,
          23,
          50,
          25,
          40,
          50,
          50,
          50,
          50,
          50,
          44,
          50,
          20,
          50,
          50,
          50,
          50,
          30,
          34,
          35,
          50,
          50,
          50,
          50,
          22,
          20,
          20,
          50,
          46,
          26,
          36,
          50,
          24,
          50,
          47,
          28,
          50,
          27,
          24,
          50,
          50,
          50,
          50,
          43,
          48,
          50,
          50,
          50,
          25,
          50,
          20,
          41,
          25,
          47,
          50,
          50,
          29,
          47,
          27,
          50,
          50,
          37,
          50,
          28,
          50,
          42,
          27,
          28,
          39,
          50,
          43,
          50,
          50,
          50,
          50,
          50,
          50,
          45,
          50,
          50,
          32,
          50,
          27,
          50,
          50,
          20,
          50,
          50,
          50,
          34,
          20,
          50,
          50,
          50,
          50,
          40,
          50,
          50,
          42,
          50,
          38,
          50,
          50,
          24,
          50,
          21,
          22,
          50,
          50,
          50,
          24,
          29,
          50,
          50,
          50,
          50,
          23,
          50,
          50,
          50,
          50,
          47,
          46,
          50,
          46,
          50,
          29,
          35,
          41,
          34,
          50,
          49,
          28,
          50,
          38,
          22,
          50,
          50,
          50,
          20,
          50,
          21,
          24,
          36,
          50,
          32,
          40,
          50,
          50,
          38,
          29,
          50,
          50,
          50,
          21,
          33,
          31,
          47,
          50,
          50,
          29,
          50,
          50,
          50,
          50,
          50,
          50,
          30,
          44,
          50,
          50,
          50,
          39,
          50,
          30,
          50,
          42,
          22,
          50,
          25,
          24,
          50,
          26,
          21,
          38,
          50,
          20,
          50,
          50,
          50,
          24,
          33,
          50,
          35,
          20,
          50,
          26,
          35,
          27,
          50,
          50,
          50,
          50,
          50,
          33,
          50,
          50,
          50,
          34,
          38,
          50,
          50,
          50,
          32,
          41,
          50,
          21,
          50,
          50,
          23,
          50,
          37,
          50,
          29,
          50,
          50,
          33,
          50,
          50,
          28,
          50,
          36,
          50,
          37,
          50,
          42,
          50,
          30,
          39,
          27,
          50,
          50,
          50,
          33,
          50,
          25,
          47,
          50,
          39,
          50,
          50,
          26,
          50,
          24,
          28,
          26,
          50,
          33,
          50,
          50,
          50,
          50,
          23,
          20,
          26,
          21,
          20,
          29,
          35,
          50,
          25,
          36,
          21,
          28,
          21,
          50,
          25,
          50,
          20,
          50,
          50,
          28,
          50,
          50,
          50,
          50,
          25,
          50,
          50,
          50,
          50,
          46,
          50,
          50,
          50,
          31,
          27,
          50,
          50,
          31,
          50,
          50,
          50,
          23,
          50,
          50,
          49,
          41,
          50,
          23,
          26,
          22,
          21,
          39,
          50,
          43,
          50,
          50,
          50,
          50,
          20,
          50,
          50,
          47,
          50,
          50,
          50,
          20,
          34,
          50,
          21,
          50,
          50,
          29,
          50,
          50,
          50,
          50,
          43,
          50,
          50,
          50,
          20,
          50,
          50,
          47,
          50,
          50,
          50,
          20,
          50,
          50,
          30,
          50,
          45,
          50,
          49,
          50,
          47,
          40,
          41,
          50,
          50,
          26,
          50,
          50,
          50,
          50,
          23,
          26,
          50,
          35,
          50,
          50,
          26,
          50,
          50,
          50,
          50,
          32,
          20,
          50,
          32,
          49,
          50,
          50,
          50,
          50,
          50,
          39,
          50,
          40,
          50,
          49,
          50,
          22,
          50,
          50
         ],
         "xbins": {
          "end": 50,
          "size": 2,
          "start": 0
         }
        }
       ],
       "layout": {
        "bargap": 0.2,
        "template": {
         "data": {
          "bar": [
           {
            "error_x": {
             "color": "#2a3f5f"
            },
            "error_y": {
             "color": "#2a3f5f"
            },
            "marker": {
             "line": {
              "color": "#E5ECF6",
              "width": 0.5
             }
            },
            "type": "bar"
           }
          ],
          "barpolar": [
           {
            "marker": {
             "line": {
              "color": "#E5ECF6",
              "width": 0.5
             }
            },
            "type": "barpolar"
           }
          ],
          "carpet": [
           {
            "aaxis": {
             "endlinecolor": "#2a3f5f",
             "gridcolor": "white",
             "linecolor": "white",
             "minorgridcolor": "white",
             "startlinecolor": "#2a3f5f"
            },
            "baxis": {
             "endlinecolor": "#2a3f5f",
             "gridcolor": "white",
             "linecolor": "white",
             "minorgridcolor": "white",
             "startlinecolor": "#2a3f5f"
            },
            "type": "carpet"
           }
          ],
          "choropleth": [
           {
            "colorbar": {
             "outlinewidth": 0,
             "ticks": ""
            },
            "type": "choropleth"
           }
          ],
          "contour": [
           {
            "colorbar": {
             "outlinewidth": 0,
             "ticks": ""
            },
            "colorscale": [
             [
              0,
              "#0d0887"
             ],
             [
              0.1111111111111111,
              "#46039f"
             ],
             [
              0.2222222222222222,
              "#7201a8"
             ],
             [
              0.3333333333333333,
              "#9c179e"
             ],
             [
              0.4444444444444444,
              "#bd3786"
             ],
             [
              0.5555555555555556,
              "#d8576b"
             ],
             [
              0.6666666666666666,
              "#ed7953"
             ],
             [
              0.7777777777777778,
              "#fb9f3a"
             ],
             [
              0.8888888888888888,
              "#fdca26"
             ],
             [
              1,
              "#f0f921"
             ]
            ],
            "type": "contour"
           }
          ],
          "contourcarpet": [
           {
            "colorbar": {
             "outlinewidth": 0,
             "ticks": ""
            },
            "type": "contourcarpet"
           }
          ],
          "heatmap": [
           {
            "colorbar": {
             "outlinewidth": 0,
             "ticks": ""
            },
            "colorscale": [
             [
              0,
              "#0d0887"
             ],
             [
              0.1111111111111111,
              "#46039f"
             ],
             [
              0.2222222222222222,
              "#7201a8"
             ],
             [
              0.3333333333333333,
              "#9c179e"
             ],
             [
              0.4444444444444444,
              "#bd3786"
             ],
             [
              0.5555555555555556,
              "#d8576b"
             ],
             [
              0.6666666666666666,
              "#ed7953"
             ],
             [
              0.7777777777777778,
              "#fb9f3a"
             ],
             [
              0.8888888888888888,
              "#fdca26"
             ],
             [
              1,
              "#f0f921"
             ]
            ],
            "type": "heatmap"
           }
          ],
          "heatmapgl": [
           {
            "colorbar": {
             "outlinewidth": 0,
             "ticks": ""
            },
            "colorscale": [
             [
              0,
              "#0d0887"
             ],
             [
              0.1111111111111111,
              "#46039f"
             ],
             [
              0.2222222222222222,
              "#7201a8"
             ],
             [
              0.3333333333333333,
              "#9c179e"
             ],
             [
              0.4444444444444444,
              "#bd3786"
             ],
             [
              0.5555555555555556,
              "#d8576b"
             ],
             [
              0.6666666666666666,
              "#ed7953"
             ],
             [
              0.7777777777777778,
              "#fb9f3a"
             ],
             [
              0.8888888888888888,
              "#fdca26"
             ],
             [
              1,
              "#f0f921"
             ]
            ],
            "type": "heatmapgl"
           }
          ],
          "histogram": [
           {
            "marker": {
             "colorbar": {
              "outlinewidth": 0,
              "ticks": ""
             }
            },
            "type": "histogram"
           }
          ],
          "histogram2d": [
           {
            "colorbar": {
             "outlinewidth": 0,
             "ticks": ""
            },
            "colorscale": [
             [
              0,
              "#0d0887"
             ],
             [
              0.1111111111111111,
              "#46039f"
             ],
             [
              0.2222222222222222,
              "#7201a8"
             ],
             [
              0.3333333333333333,
              "#9c179e"
             ],
             [
              0.4444444444444444,
              "#bd3786"
             ],
             [
              0.5555555555555556,
              "#d8576b"
             ],
             [
              0.6666666666666666,
              "#ed7953"
             ],
             [
              0.7777777777777778,
              "#fb9f3a"
             ],
             [
              0.8888888888888888,
              "#fdca26"
             ],
             [
              1,
              "#f0f921"
             ]
            ],
            "type": "histogram2d"
           }
          ],
          "histogram2dcontour": [
           {
            "colorbar": {
             "outlinewidth": 0,
             "ticks": ""
            },
            "colorscale": [
             [
              0,
              "#0d0887"
             ],
             [
              0.1111111111111111,
              "#46039f"
             ],
             [
              0.2222222222222222,
              "#7201a8"
             ],
             [
              0.3333333333333333,
              "#9c179e"
             ],
             [
              0.4444444444444444,
              "#bd3786"
             ],
             [
              0.5555555555555556,
              "#d8576b"
             ],
             [
              0.6666666666666666,
              "#ed7953"
             ],
             [
              0.7777777777777778,
              "#fb9f3a"
             ],
             [
              0.8888888888888888,
              "#fdca26"
             ],
             [
              1,
              "#f0f921"
             ]
            ],
            "type": "histogram2dcontour"
           }
          ],
          "mesh3d": [
           {
            "colorbar": {
             "outlinewidth": 0,
             "ticks": ""
            },
            "type": "mesh3d"
           }
          ],
          "parcoords": [
           {
            "line": {
             "colorbar": {
              "outlinewidth": 0,
              "ticks": ""
             }
            },
            "type": "parcoords"
           }
          ],
          "scatter": [
           {
            "marker": {
             "colorbar": {
              "outlinewidth": 0,
              "ticks": ""
             }
            },
            "type": "scatter"
           }
          ],
          "scatter3d": [
           {
            "line": {
             "colorbar": {
              "outlinewidth": 0,
              "ticks": ""
             }
            },
            "marker": {
             "colorbar": {
              "outlinewidth": 0,
              "ticks": ""
             }
            },
            "type": "scatter3d"
           }
          ],
          "scattercarpet": [
           {
            "marker": {
             "colorbar": {
              "outlinewidth": 0,
              "ticks": ""
             }
            },
            "type": "scattercarpet"
           }
          ],
          "scattergeo": [
           {
            "marker": {
             "colorbar": {
              "outlinewidth": 0,
              "ticks": ""
             }
            },
            "type": "scattergeo"
           }
          ],
          "scattergl": [
           {
            "marker": {
             "colorbar": {
              "outlinewidth": 0,
              "ticks": ""
             }
            },
            "type": "scattergl"
           }
          ],
          "scattermapbox": [
           {
            "marker": {
             "colorbar": {
              "outlinewidth": 0,
              "ticks": ""
             }
            },
            "type": "scattermapbox"
           }
          ],
          "scatterpolar": [
           {
            "marker": {
             "colorbar": {
              "outlinewidth": 0,
              "ticks": ""
             }
            },
            "type": "scatterpolar"
           }
          ],
          "scatterpolargl": [
           {
            "marker": {
             "colorbar": {
              "outlinewidth": 0,
              "ticks": ""
             }
            },
            "type": "scatterpolargl"
           }
          ],
          "scatterternary": [
           {
            "marker": {
             "colorbar": {
              "outlinewidth": 0,
              "ticks": ""
             }
            },
            "type": "scatterternary"
           }
          ],
          "surface": [
           {
            "colorbar": {
             "outlinewidth": 0,
             "ticks": ""
            },
            "colorscale": [
             [
              0,
              "#0d0887"
             ],
             [
              0.1111111111111111,
              "#46039f"
             ],
             [
              0.2222222222222222,
              "#7201a8"
             ],
             [
              0.3333333333333333,
              "#9c179e"
             ],
             [
              0.4444444444444444,
              "#bd3786"
             ],
             [
              0.5555555555555556,
              "#d8576b"
             ],
             [
              0.6666666666666666,
              "#ed7953"
             ],
             [
              0.7777777777777778,
              "#fb9f3a"
             ],
             [
              0.8888888888888888,
              "#fdca26"
             ],
             [
              1,
              "#f0f921"
             ]
            ],
            "type": "surface"
           }
          ],
          "table": [
           {
            "cells": {
             "fill": {
              "color": "#EBF0F8"
             },
             "line": {
              "color": "white"
             }
            },
            "header": {
             "fill": {
              "color": "#C8D4E3"
             },
             "line": {
              "color": "white"
             }
            },
            "type": "table"
           }
          ]
         },
         "layout": {
          "annotationdefaults": {
           "arrowcolor": "#2a3f5f",
           "arrowhead": 0,
           "arrowwidth": 1
          },
          "colorscale": {
           "diverging": [
            [
             0,
             "#8e0152"
            ],
            [
             0.1,
             "#c51b7d"
            ],
            [
             0.2,
             "#de77ae"
            ],
            [
             0.3,
             "#f1b6da"
            ],
            [
             0.4,
             "#fde0ef"
            ],
            [
             0.5,
             "#f7f7f7"
            ],
            [
             0.6,
             "#e6f5d0"
            ],
            [
             0.7,
             "#b8e186"
            ],
            [
             0.8,
             "#7fbc41"
            ],
            [
             0.9,
             "#4d9221"
            ],
            [
             1,
             "#276419"
            ]
           ],
           "sequential": [
            [
             0,
             "#0d0887"
            ],
            [
             0.1111111111111111,
             "#46039f"
            ],
            [
             0.2222222222222222,
             "#7201a8"
            ],
            [
             0.3333333333333333,
             "#9c179e"
            ],
            [
             0.4444444444444444,
             "#bd3786"
            ],
            [
             0.5555555555555556,
             "#d8576b"
            ],
            [
             0.6666666666666666,
             "#ed7953"
            ],
            [
             0.7777777777777778,
             "#fb9f3a"
            ],
            [
             0.8888888888888888,
             "#fdca26"
            ],
            [
             1,
             "#f0f921"
            ]
           ],
           "sequentialminus": [
            [
             0,
             "#0d0887"
            ],
            [
             0.1111111111111111,
             "#46039f"
            ],
            [
             0.2222222222222222,
             "#7201a8"
            ],
            [
             0.3333333333333333,
             "#9c179e"
            ],
            [
             0.4444444444444444,
             "#bd3786"
            ],
            [
             0.5555555555555556,
             "#d8576b"
            ],
            [
             0.6666666666666666,
             "#ed7953"
            ],
            [
             0.7777777777777778,
             "#fb9f3a"
            ],
            [
             0.8888888888888888,
             "#fdca26"
            ],
            [
             1,
             "#f0f921"
            ]
           ]
          },
          "colorway": [
           "#636efa",
           "#EF553B",
           "#00cc96",
           "#ab63fa",
           "#FFA15A",
           "#19d3f3",
           "#FF6692",
           "#B6E880",
           "#FF97FF",
           "#FECB52"
          ],
          "font": {
           "color": "#2a3f5f"
          },
          "geo": {
           "bgcolor": "white",
           "lakecolor": "white",
           "landcolor": "#E5ECF6",
           "showlakes": true,
           "showland": true,
           "subunitcolor": "white"
          },
          "hoverlabel": {
           "align": "left"
          },
          "hovermode": "closest",
          "mapbox": {
           "style": "light"
          },
          "paper_bgcolor": "white",
          "plot_bgcolor": "#E5ECF6",
          "polar": {
           "angularaxis": {
            "gridcolor": "white",
            "linecolor": "white",
            "ticks": ""
           },
           "bgcolor": "#E5ECF6",
           "radialaxis": {
            "gridcolor": "white",
            "linecolor": "white",
            "ticks": ""
           }
          },
          "scene": {
           "xaxis": {
            "backgroundcolor": "#E5ECF6",
            "gridcolor": "white",
            "gridwidth": 2,
            "linecolor": "white",
            "showbackground": true,
            "ticks": "",
            "zerolinecolor": "white"
           },
           "yaxis": {
            "backgroundcolor": "#E5ECF6",
            "gridcolor": "white",
            "gridwidth": 2,
            "linecolor": "white",
            "showbackground": true,
            "ticks": "",
            "zerolinecolor": "white"
           },
           "zaxis": {
            "backgroundcolor": "#E5ECF6",
            "gridcolor": "white",
            "gridwidth": 2,
            "linecolor": "white",
            "showbackground": true,
            "ticks": "",
            "zerolinecolor": "white"
           }
          },
          "shapedefaults": {
           "line": {
            "color": "#2a3f5f"
           }
          },
          "ternary": {
           "aaxis": {
            "gridcolor": "white",
            "linecolor": "white",
            "ticks": ""
           },
           "baxis": {
            "gridcolor": "white",
            "linecolor": "white",
            "ticks": ""
           },
           "bgcolor": "#E5ECF6",
           "caxis": {
            "gridcolor": "white",
            "linecolor": "white",
            "ticks": ""
           }
          },
          "title": {
           "x": 0.05
          },
          "xaxis": {
           "automargin": true,
           "gridcolor": "white",
           "linecolor": "white",
           "ticks": "",
           "zerolinecolor": "white",
           "zerolinewidth": 2
          },
          "yaxis": {
           "automargin": true,
           "gridcolor": "white",
           "linecolor": "white",
           "ticks": "",
           "zerolinecolor": "white",
           "zerolinewidth": 2
          }
         }
        },
        "title": {
         "text": "Distribution of Ratings Per User"
        },
        "xaxis": {
         "title": {
          "text": "Ratings / User"
         }
        },
        "yaxis": {
         "title": {
          "text": "Count"
         }
        }
       }
      },
      "text/html": [
       "<div>\n",
       "        \n",
       "        \n",
       "            <div id=\"5b5297d2-4590-4432-a256-bc052a533831\" class=\"plotly-graph-div\" style=\"height:525px; width:100%;\"></div>\n",
       "            <script type=\"text/javascript\">\n",
       "                require([\"plotly\"], function(Plotly) {\n",
       "                    window.PLOTLYENV=window.PLOTLYENV || {};\n",
       "                    \n",
       "                if (document.getElementById(\"5b5297d2-4590-4432-a256-bc052a533831\")) {\n",
       "                    Plotly.newPlot(\n",
       "                        '5b5297d2-4590-4432-a256-bc052a533831',\n",
       "                        [{\"name\": \"Ratings\", \"type\": \"histogram\", \"x\": [50, 50, 50, 24, 50, 50, 50, 50, 22, 50, 50, 50, 50, 50, 50, 50, 28, 50, 20, 48, 50, 50, 50, 50, 50, 50, 25, 50, 34, 43, 36, 41, 24, 20, 25, 20, 50, 50, 22, 35, 50, 50, 50, 50, 48, 27, 25, 50, 50, 24, 23, 50, 28, 50, 21, 50, 50, 50, 50, 50, 21, 50, 50, 50, 50, 38, 30, 34, 50, 50, 38, 50, 50, 39, 50, 50, 50, 21, 50, 29, 50, 50, 50, 50, 50, 23, 50, 21, 50, 50, 50, 50, 20, 50, 50, 50, 50, 27, 50, 50, 50, 50, 29, 50, 23, 50, 22, 33, 50, 50, 24, 46, 50, 48, 50, 50, 50, 50, 50, 26, 50, 50, 50, 24, 50, 45, 23, 50, 30, 50, 30, 22, 26, 25, 50, 35, 47, 50, 24, 21, 50, 33, 20, 50, 50, 29, 20, 50, 36, 32, 50, 50, 23, 50, 22, 37, 50, 50, 50, 50, 50, 42, 23, 50, 30, 20, 50, 50, 37, 22, 28, 27, 43, 50, 38, 50, 50, 50, 42, 50, 50, 28, 50, 50, 48, 50, 50, 50, 50, 50, 27, 35, 50, 50, 50, 39, 50, 50, 40, 50, 50, 20, 43, 42, 22, 50, 50, 33, 33, 50, 37, 25, 50, 50, 50, 50, 50, 50, 28, 22, 50, 50, 50, 50, 27, 50, 50, 21, 30, 50, 21, 50, 50, 50, 50, 50, 48, 29, 50, 24, 23, 20, 50, 50, 22, 50, 26, 50, 50, 50, 50, 21, 50, 50, 50, 50, 50, 23, 46, 24, 27, 50, 50, 50, 46, 23, 50, 50, 50, 50, 50, 50, 22, 50, 50, 50, 50, 23, 50, 50, 26, 22, 50, 47, 32, 50, 50, 50, 27, 50, 50, 50, 50, 50, 50, 50, 50, 50, 50, 20, 50, 21, 50, 26, 50, 32, 50, 50, 20, 21, 50, 50, 50, 50, 50, 50, 22, 50, 23, 50, 50, 50, 50, 50, 50, 50, 50, 50, 50, 50, 50, 50, 26, 50, 22, 50, 34, 50, 50, 44, 21, 50, 50, 50, 50, 50, 50, 50, 41, 50, 44, 42, 25, 50, 26, 24, 50, 43, 27, 50, 50, 25, 50, 20, 50, 33, 50, 45, 22, 50, 50, 50, 50, 50, 28, 30, 33, 50, 50, 50, 50, 50, 50, 22, 50, 23, 50, 50, 50, 31, 50, 50, 50, 50, 50, 50, 50, 50, 50, 22, 50, 50, 50, 44, 50, 50, 50, 27, 50, 28, 50, 50, 50, 25, 24, 50, 50, 20, 32, 36, 50, 50, 50, 44, 50, 50, 31, 50, 50, 50, 21, 50, 41, 44, 50, 50, 50, 33, 31, 50, 20, 50, 24, 24, 50, 36, 50, 38, 50, 50, 50, 50, 50, 50, 50, 50, 50, 50, 50, 50, 23, 33, 50, 50, 50, 50, 44, 50, 43, 50, 31, 50, 35, 50, 20, 50, 35, 50, 50, 50, 50, 26, 50, 50, 26, 50, 50, 50, 50, 50, 33, 50, 50, 47, 50, 50, 50, 50, 50, 50, 50, 37, 50, 50, 50, 50, 50, 50, 33, 30, 24, 21, 22, 50, 40, 21, 37, 50, 49, 23, 50, 30, 50, 50, 50, 50, 50, 50, 43, 45, 30, 50, 50, 50, 50, 50, 50, 50, 50, 50, 50, 50, 50, 31, 50, 50, 23, 50, 25, 40, 50, 50, 50, 50, 50, 44, 50, 20, 50, 50, 50, 50, 30, 34, 35, 50, 50, 50, 50, 22, 20, 20, 50, 46, 26, 36, 50, 24, 50, 47, 28, 50, 27, 24, 50, 50, 50, 50, 43, 48, 50, 50, 50, 25, 50, 20, 41, 25, 47, 50, 50, 29, 47, 27, 50, 50, 37, 50, 28, 50, 42, 27, 28, 39, 50, 43, 50, 50, 50, 50, 50, 50, 45, 50, 50, 32, 50, 27, 50, 50, 20, 50, 50, 50, 34, 20, 50, 50, 50, 50, 40, 50, 50, 42, 50, 38, 50, 50, 24, 50, 21, 22, 50, 50, 50, 24, 29, 50, 50, 50, 50, 23, 50, 50, 50, 50, 47, 46, 50, 46, 50, 29, 35, 41, 34, 50, 49, 28, 50, 38, 22, 50, 50, 50, 20, 50, 21, 24, 36, 50, 32, 40, 50, 50, 38, 29, 50, 50, 50, 21, 33, 31, 47, 50, 50, 29, 50, 50, 50, 50, 50, 50, 30, 44, 50, 50, 50, 39, 50, 30, 50, 42, 22, 50, 25, 24, 50, 26, 21, 38, 50, 20, 50, 50, 50, 24, 33, 50, 35, 20, 50, 26, 35, 27, 50, 50, 50, 50, 50, 33, 50, 50, 50, 34, 38, 50, 50, 50, 32, 41, 50, 21, 50, 50, 23, 50, 37, 50, 29, 50, 50, 33, 50, 50, 28, 50, 36, 50, 37, 50, 42, 50, 30, 39, 27, 50, 50, 50, 33, 50, 25, 47, 50, 39, 50, 50, 26, 50, 24, 28, 26, 50, 33, 50, 50, 50, 50, 23, 20, 26, 21, 20, 29, 35, 50, 25, 36, 21, 28, 21, 50, 25, 50, 20, 50, 50, 28, 50, 50, 50, 50, 25, 50, 50, 50, 50, 46, 50, 50, 50, 31, 27, 50, 50, 31, 50, 50, 50, 23, 50, 50, 49, 41, 50, 23, 26, 22, 21, 39, 50, 43, 50, 50, 50, 50, 20, 50, 50, 47, 50, 50, 50, 20, 34, 50, 21, 50, 50, 29, 50, 50, 50, 50, 43, 50, 50, 50, 20, 50, 50, 47, 50, 50, 50, 20, 50, 50, 30, 50, 45, 50, 49, 50, 47, 40, 41, 50, 50, 26, 50, 50, 50, 50, 23, 26, 50, 35, 50, 50, 26, 50, 50, 50, 50, 32, 20, 50, 32, 49, 50, 50, 50, 50, 50, 39, 50, 40, 50, 49, 50, 22, 50, 50], \"xbins\": {\"end\": 50, \"size\": 2, \"start\": 0}}],\n",
       "                        {\"bargap\": 0.2, \"template\": {\"data\": {\"bar\": [{\"error_x\": {\"color\": \"#2a3f5f\"}, \"error_y\": {\"color\": \"#2a3f5f\"}, \"marker\": {\"line\": {\"color\": \"#E5ECF6\", \"width\": 0.5}}, \"type\": \"bar\"}], \"barpolar\": [{\"marker\": {\"line\": {\"color\": \"#E5ECF6\", \"width\": 0.5}}, \"type\": \"barpolar\"}], \"carpet\": [{\"aaxis\": {\"endlinecolor\": \"#2a3f5f\", \"gridcolor\": \"white\", \"linecolor\": \"white\", \"minorgridcolor\": \"white\", \"startlinecolor\": \"#2a3f5f\"}, \"baxis\": {\"endlinecolor\": \"#2a3f5f\", \"gridcolor\": \"white\", \"linecolor\": \"white\", \"minorgridcolor\": \"white\", \"startlinecolor\": \"#2a3f5f\"}, \"type\": \"carpet\"}], \"choropleth\": [{\"colorbar\": {\"outlinewidth\": 0, \"ticks\": \"\"}, \"type\": \"choropleth\"}], \"contour\": [{\"colorbar\": {\"outlinewidth\": 0, \"ticks\": \"\"}, \"colorscale\": [[0.0, \"#0d0887\"], [0.1111111111111111, \"#46039f\"], [0.2222222222222222, \"#7201a8\"], [0.3333333333333333, \"#9c179e\"], [0.4444444444444444, \"#bd3786\"], [0.5555555555555556, \"#d8576b\"], [0.6666666666666666, \"#ed7953\"], [0.7777777777777778, \"#fb9f3a\"], [0.8888888888888888, \"#fdca26\"], [1.0, \"#f0f921\"]], \"type\": \"contour\"}], \"contourcarpet\": [{\"colorbar\": {\"outlinewidth\": 0, \"ticks\": \"\"}, \"type\": \"contourcarpet\"}], \"heatmap\": [{\"colorbar\": {\"outlinewidth\": 0, \"ticks\": \"\"}, \"colorscale\": [[0.0, \"#0d0887\"], [0.1111111111111111, \"#46039f\"], [0.2222222222222222, \"#7201a8\"], [0.3333333333333333, \"#9c179e\"], [0.4444444444444444, \"#bd3786\"], [0.5555555555555556, \"#d8576b\"], [0.6666666666666666, \"#ed7953\"], [0.7777777777777778, \"#fb9f3a\"], [0.8888888888888888, \"#fdca26\"], [1.0, \"#f0f921\"]], \"type\": \"heatmap\"}], \"heatmapgl\": [{\"colorbar\": {\"outlinewidth\": 0, \"ticks\": \"\"}, \"colorscale\": [[0.0, \"#0d0887\"], [0.1111111111111111, \"#46039f\"], [0.2222222222222222, \"#7201a8\"], [0.3333333333333333, \"#9c179e\"], [0.4444444444444444, \"#bd3786\"], [0.5555555555555556, \"#d8576b\"], [0.6666666666666666, \"#ed7953\"], [0.7777777777777778, \"#fb9f3a\"], [0.8888888888888888, \"#fdca26\"], [1.0, \"#f0f921\"]], \"type\": \"heatmapgl\"}], \"histogram\": [{\"marker\": {\"colorbar\": {\"outlinewidth\": 0, \"ticks\": \"\"}}, \"type\": \"histogram\"}], \"histogram2d\": [{\"colorbar\": {\"outlinewidth\": 0, \"ticks\": \"\"}, \"colorscale\": [[0.0, \"#0d0887\"], [0.1111111111111111, \"#46039f\"], [0.2222222222222222, \"#7201a8\"], [0.3333333333333333, \"#9c179e\"], [0.4444444444444444, \"#bd3786\"], [0.5555555555555556, \"#d8576b\"], [0.6666666666666666, \"#ed7953\"], [0.7777777777777778, \"#fb9f3a\"], [0.8888888888888888, \"#fdca26\"], [1.0, \"#f0f921\"]], \"type\": \"histogram2d\"}], \"histogram2dcontour\": [{\"colorbar\": {\"outlinewidth\": 0, \"ticks\": \"\"}, \"colorscale\": [[0.0, \"#0d0887\"], [0.1111111111111111, \"#46039f\"], [0.2222222222222222, \"#7201a8\"], [0.3333333333333333, \"#9c179e\"], [0.4444444444444444, \"#bd3786\"], [0.5555555555555556, \"#d8576b\"], [0.6666666666666666, \"#ed7953\"], [0.7777777777777778, \"#fb9f3a\"], [0.8888888888888888, \"#fdca26\"], [1.0, \"#f0f921\"]], \"type\": \"histogram2dcontour\"}], \"mesh3d\": [{\"colorbar\": {\"outlinewidth\": 0, \"ticks\": \"\"}, \"type\": \"mesh3d\"}], \"parcoords\": [{\"line\": {\"colorbar\": {\"outlinewidth\": 0, \"ticks\": \"\"}}, \"type\": \"parcoords\"}], \"scatter\": [{\"marker\": {\"colorbar\": {\"outlinewidth\": 0, \"ticks\": \"\"}}, \"type\": \"scatter\"}], \"scatter3d\": [{\"line\": {\"colorbar\": {\"outlinewidth\": 0, \"ticks\": \"\"}}, \"marker\": {\"colorbar\": {\"outlinewidth\": 0, \"ticks\": \"\"}}, \"type\": \"scatter3d\"}], \"scattercarpet\": [{\"marker\": {\"colorbar\": {\"outlinewidth\": 0, \"ticks\": \"\"}}, \"type\": \"scattercarpet\"}], \"scattergeo\": [{\"marker\": {\"colorbar\": {\"outlinewidth\": 0, \"ticks\": \"\"}}, \"type\": \"scattergeo\"}], \"scattergl\": [{\"marker\": {\"colorbar\": {\"outlinewidth\": 0, \"ticks\": \"\"}}, \"type\": \"scattergl\"}], \"scattermapbox\": [{\"marker\": {\"colorbar\": {\"outlinewidth\": 0, \"ticks\": \"\"}}, \"type\": \"scattermapbox\"}], \"scatterpolar\": [{\"marker\": {\"colorbar\": {\"outlinewidth\": 0, \"ticks\": \"\"}}, \"type\": \"scatterpolar\"}], \"scatterpolargl\": [{\"marker\": {\"colorbar\": {\"outlinewidth\": 0, \"ticks\": \"\"}}, \"type\": \"scatterpolargl\"}], \"scatterternary\": [{\"marker\": {\"colorbar\": {\"outlinewidth\": 0, \"ticks\": \"\"}}, \"type\": \"scatterternary\"}], \"surface\": [{\"colorbar\": {\"outlinewidth\": 0, \"ticks\": \"\"}, \"colorscale\": [[0.0, \"#0d0887\"], [0.1111111111111111, \"#46039f\"], [0.2222222222222222, \"#7201a8\"], [0.3333333333333333, \"#9c179e\"], [0.4444444444444444, \"#bd3786\"], [0.5555555555555556, \"#d8576b\"], [0.6666666666666666, \"#ed7953\"], [0.7777777777777778, \"#fb9f3a\"], [0.8888888888888888, \"#fdca26\"], [1.0, \"#f0f921\"]], \"type\": \"surface\"}], \"table\": [{\"cells\": {\"fill\": {\"color\": \"#EBF0F8\"}, \"line\": {\"color\": \"white\"}}, \"header\": {\"fill\": {\"color\": \"#C8D4E3\"}, \"line\": {\"color\": \"white\"}}, \"type\": \"table\"}]}, \"layout\": {\"annotationdefaults\": {\"arrowcolor\": \"#2a3f5f\", \"arrowhead\": 0, \"arrowwidth\": 1}, \"colorscale\": {\"diverging\": [[0, \"#8e0152\"], [0.1, \"#c51b7d\"], [0.2, \"#de77ae\"], [0.3, \"#f1b6da\"], [0.4, \"#fde0ef\"], [0.5, \"#f7f7f7\"], [0.6, \"#e6f5d0\"], [0.7, \"#b8e186\"], [0.8, \"#7fbc41\"], [0.9, \"#4d9221\"], [1, \"#276419\"]], \"sequential\": [[0.0, \"#0d0887\"], [0.1111111111111111, \"#46039f\"], [0.2222222222222222, \"#7201a8\"], [0.3333333333333333, \"#9c179e\"], [0.4444444444444444, \"#bd3786\"], [0.5555555555555556, \"#d8576b\"], [0.6666666666666666, \"#ed7953\"], [0.7777777777777778, \"#fb9f3a\"], [0.8888888888888888, \"#fdca26\"], [1.0, \"#f0f921\"]], \"sequentialminus\": [[0.0, \"#0d0887\"], [0.1111111111111111, \"#46039f\"], [0.2222222222222222, \"#7201a8\"], [0.3333333333333333, \"#9c179e\"], [0.4444444444444444, \"#bd3786\"], [0.5555555555555556, \"#d8576b\"], [0.6666666666666666, \"#ed7953\"], [0.7777777777777778, \"#fb9f3a\"], [0.8888888888888888, \"#fdca26\"], [1.0, \"#f0f921\"]]}, \"colorway\": [\"#636efa\", \"#EF553B\", \"#00cc96\", \"#ab63fa\", \"#FFA15A\", \"#19d3f3\", \"#FF6692\", \"#B6E880\", \"#FF97FF\", \"#FECB52\"], \"font\": {\"color\": \"#2a3f5f\"}, \"geo\": {\"bgcolor\": \"white\", \"lakecolor\": \"white\", \"landcolor\": \"#E5ECF6\", \"showlakes\": true, \"showland\": true, \"subunitcolor\": \"white\"}, \"hoverlabel\": {\"align\": \"left\"}, \"hovermode\": \"closest\", \"mapbox\": {\"style\": \"light\"}, \"paper_bgcolor\": \"white\", \"plot_bgcolor\": \"#E5ECF6\", \"polar\": {\"angularaxis\": {\"gridcolor\": \"white\", \"linecolor\": \"white\", \"ticks\": \"\"}, \"bgcolor\": \"#E5ECF6\", \"radialaxis\": {\"gridcolor\": \"white\", \"linecolor\": \"white\", \"ticks\": \"\"}}, \"scene\": {\"xaxis\": {\"backgroundcolor\": \"#E5ECF6\", \"gridcolor\": \"white\", \"gridwidth\": 2, \"linecolor\": \"white\", \"showbackground\": true, \"ticks\": \"\", \"zerolinecolor\": \"white\"}, \"yaxis\": {\"backgroundcolor\": \"#E5ECF6\", \"gridcolor\": \"white\", \"gridwidth\": 2, \"linecolor\": \"white\", \"showbackground\": true, \"ticks\": \"\", \"zerolinecolor\": \"white\"}, \"zaxis\": {\"backgroundcolor\": \"#E5ECF6\", \"gridcolor\": \"white\", \"gridwidth\": 2, \"linecolor\": \"white\", \"showbackground\": true, \"ticks\": \"\", \"zerolinecolor\": \"white\"}}, \"shapedefaults\": {\"line\": {\"color\": \"#2a3f5f\"}}, \"ternary\": {\"aaxis\": {\"gridcolor\": \"white\", \"linecolor\": \"white\", \"ticks\": \"\"}, \"baxis\": {\"gridcolor\": \"white\", \"linecolor\": \"white\", \"ticks\": \"\"}, \"bgcolor\": \"#E5ECF6\", \"caxis\": {\"gridcolor\": \"white\", \"linecolor\": \"white\", \"ticks\": \"\"}}, \"title\": {\"x\": 0.05}, \"xaxis\": {\"automargin\": true, \"gridcolor\": \"white\", \"linecolor\": \"white\", \"ticks\": \"\", \"zerolinecolor\": \"white\", \"zerolinewidth\": 2}, \"yaxis\": {\"automargin\": true, \"gridcolor\": \"white\", \"linecolor\": \"white\", \"ticks\": \"\", \"zerolinecolor\": \"white\", \"zerolinewidth\": 2}}}, \"title\": {\"text\": \"Distribution of Ratings Per User\"}, \"xaxis\": {\"title\": {\"text\": \"Ratings / User\"}}, \"yaxis\": {\"title\": {\"text\": \"Count\"}}},\n",
       "                        {\"responsive\": true}\n",
       "                    ).then(function(){\n",
       "                            \n",
       "var gd = document.getElementById('5b5297d2-4590-4432-a256-bc052a533831');\n",
       "var x = new MutationObserver(function (mutations, observer) {{\n",
       "        var display = window.getComputedStyle(gd).display;\n",
       "        if (!display || display === 'none') {{\n",
       "            console.log([gd, 'removed!']);\n",
       "            Plotly.purge(gd);\n",
       "            observer.disconnect();\n",
       "        }}\n",
       "}});\n",
       "\n",
       "// Listen for the removal of the full notebook cells\n",
       "var notebookContainer = gd.closest('#notebook-container');\n",
       "if (notebookContainer) {{\n",
       "    x.observe(notebookContainer, {childList: true});\n",
       "}}\n",
       "\n",
       "// Listen for the clearing of the current output cell\n",
       "var outputEl = gd.closest('.output');\n",
       "if (outputEl) {{\n",
       "    x.observe(outputEl, {childList: true});\n",
       "}}\n",
       "\n",
       "                        })\n",
       "                };\n",
       "                });\n",
       "            </script>\n",
       "        </div>"
      ]
     },
     "metadata": {},
     "output_type": "display_data"
    }
   ],
   "source": [
    "\n",
    "\n",
    "data = user_ratings.groupby('user_id')['rating'].count().clip(upper=50)\n",
    "\n",
    "trace = go.Histogram(x = data.values,\n",
    "                     name = 'Ratings',\n",
    "                     xbins = {\n",
    "                       'start' : 0,\n",
    "                       'end' : 50,\n",
    "                       'size' : 2  \n",
    "                     })\n",
    "\n",
    "layout = go.Layout(title = 'Distribution of Ratings Per User',\n",
    "                   xaxis = {'title' : 'Ratings / User'},\n",
    "                   yaxis = {'title' : 'Count'},\n",
    "                   bargap = 0.2)\n",
    "\n",
    "fig = go.Figure(data=[trace], layout=layout)\n",
    "iplot(fig)"
   ]
  },
  {
   "cell_type": "code",
   "execution_count": 68,
   "metadata": {},
   "outputs": [
    {
     "name": "stdout",
     "output_type": "stream",
     "text": [
      "The original data frame: (100000, 3)\n",
      "The filtered new data frame: (72582, 3)\n"
     ]
    }
   ],
   "source": [
    "min_movie_ratings = 60\n",
    "min_user_ratings = 40\n",
    "\n",
    "movies_cat = user_ratings['movie_id'].value_counts() > min_movie_ratings\n",
    "\n",
    "movies_cat = movies_cat[movies_cat].index.tolist()\n",
    "\n",
    "users_cat = user_ratings['user_id'].value_counts() > min_user_ratings\n",
    "users_cat = users_cat[users_cat].index.tolist()\n",
    "m_cat = user_ratings['user_id'].isin(users_cat)\n",
    "user_ratings_new = user_ratings[(user_ratings['movie_id'].isin(movies_cat)) & m_cat]\n",
    "print('The original data frame: {}'.format(user_ratings.shape))\n",
    "print('The filtered new data frame: {}'.format(user_ratings_new.shape))"
   ]
  },
  {
   "cell_type": "code",
   "execution_count": 46,
   "metadata": {},
   "outputs": [],
   "source": [
    "reader = Reader(rating_scale=(0, 5))\n",
    "data = Dataset.load_from_df(user_ratings_new[['user_id', 'movie_id', 'rating']], reader)"
   ]
  },
  {
   "cell_type": "markdown",
   "metadata": {},
   "source": [
    "## SVD++ Implementation"
   ]
  },
  {
   "cell_type": "code",
   "execution_count": 47,
   "metadata": {},
   "outputs": [
    {
     "name": "stdout",
     "output_type": "stream",
     "text": [
      "Evaluating RMSE, MAE of algorithm SVD on 3 split(s).\n",
      "\n",
      "                  Fold 1  Fold 2  Fold 3  Mean    Std     \n",
      "RMSE (testset)    0.9215  0.9250  0.9161  0.9209  0.0037  \n",
      "MAE (testset)     0.7239  0.7280  0.7208  0.7242  0.0030  \n",
      "Fit time          3.82    3.83    3.83    3.83    0.00    \n",
      "Test time         0.26    0.25    0.35    0.29    0.04    \n",
      "Evaluating RMSE, MAE of algorithm NMF on 3 split(s).\n",
      "\n",
      "                  Fold 1  Fold 2  Fold 3  Mean    Std     \n",
      "RMSE (testset)    0.9621  0.9673  0.9689  0.9661  0.0029  \n",
      "MAE (testset)     0.7713  0.7764  0.7783  0.7753  0.0030  \n",
      "Fit time          3.73    3.71    3.69    3.71    0.02    \n",
      "Test time         0.21    0.21    0.30    0.24    0.04    \n",
      "Computing the msd similarity matrix...\n",
      "Done computing similarity matrix.\n",
      "Computing the msd similarity matrix...\n",
      "Done computing similarity matrix.\n",
      "Computing the msd similarity matrix...\n",
      "Done computing similarity matrix.\n",
      "Evaluating RMSE, MAE of algorithm KNNWithMeans on 3 split(s).\n",
      "\n",
      "                  Fold 1  Fold 2  Fold 3  Mean    Std     \n",
      "RMSE (testset)    0.9214  0.9212  0.9256  0.9227  0.0021  \n",
      "MAE (testset)     0.7259  0.7247  0.7305  0.7270  0.0025  \n",
      "Fit time          0.20    0.21    0.21    0.21    0.00    \n",
      "Test time         5.27    5.29    5.48    5.35    0.09    \n",
      "Evaluating RMSE, MAE of algorithm SVDpp on 3 split(s).\n",
      "\n",
      "                  Fold 1  Fold 2  Fold 3  Mean    Std     \n",
      "RMSE (testset)    0.9062  0.9117  0.8957  0.9046  0.0066  \n",
      "MAE (testset)     0.7119  0.7143  0.7009  0.7090  0.0058  \n",
      "Fit time          101.81  102.97  103.39  102.72  0.67    \n",
      "Test time         3.71    4.47    3.89    4.02    0.32    \n",
      "Estimating biases using als...\n",
      "Estimating biases using als...\n",
      "Estimating biases using als...\n",
      "Evaluating RMSE, MAE of algorithm BaselineOnly on 3 split(s).\n",
      "\n",
      "                  Fold 1  Fold 2  Fold 3  Mean    Std     \n",
      "RMSE (testset)    0.9265  0.9228  0.9246  0.9247  0.0015  \n",
      "MAE (testset)     0.7324  0.7291  0.7307  0.7308  0.0014  \n",
      "Fit time          0.08    0.09    0.09    0.09    0.00    \n",
      "Test time         0.17    0.17    0.26    0.20    0.04    \n",
      "Computing the msd similarity matrix...\n",
      "Done computing similarity matrix.\n",
      "Computing the msd similarity matrix...\n",
      "Done computing similarity matrix.\n",
      "Computing the msd similarity matrix...\n",
      "Done computing similarity matrix.\n",
      "Evaluating RMSE, MAE of algorithm KNNBasic on 3 split(s).\n",
      "\n",
      "                  Fold 1  Fold 2  Fold 3  Mean    Std     \n",
      "RMSE (testset)    0.9488  0.9518  0.9414  0.9474  0.0044  \n",
      "MAE (testset)     0.7511  0.7499  0.7423  0.7478  0.0039  \n",
      "Fit time          0.19    0.20    0.20    0.20    0.00    \n",
      "Test time         5.09    5.15    5.29    5.18    0.08    \n"
     ]
    }
   ],
   "source": [
    "results_benchmarking = []\n",
    "algorithms = [SVD(),NMF(),KNNWithMeans(),SVDpp(),BaselineOnly(),KNNBasic()]\n",
    "for test_algo in algorithms:\n",
    "    results = cross_validate(test_algo,data,measures=['RMSE','MAE'],cv=3,verbose=True)\n",
    "    tmp = pd.DataFrame.from_dict(results).mean(axis=0)\n",
    "    split_data = [str(test_algo).split(' ')[0].split('.')[-1]]\n",
    "    tmp = tmp.append(pd.Series(split_data, index=['Algorithm']))\n",
    "    results_benchmarking.append(tmp)"
   ]
  },
  {
   "cell_type": "code",
   "execution_count": 48,
   "metadata": {},
   "outputs": [
    {
     "data": {
      "text/plain": [
       "[test_rmse    0.920864\n",
       " test_mae     0.724225\n",
       " fit_time      3.82944\n",
       " test_time    0.288781\n",
       " Algorithm         SVD\n",
       " dtype: object, test_rmse    0.966079\n",
       " test_mae      0.77531\n",
       " fit_time       3.7086\n",
       " test_time    0.241845\n",
       " Algorithm         NMF\n",
       " dtype: object, test_rmse        0.922725\n",
       " test_mae         0.727019\n",
       " fit_time         0.205455\n",
       " test_time         5.34782\n",
       " Algorithm    KNNWithMeans\n",
       " dtype: object, test_rmse    0.904558\n",
       " test_mae     0.709028\n",
       " fit_time      102.724\n",
       " test_time     4.02175\n",
       " Algorithm       SVDpp\n",
       " dtype: object, test_rmse         0.92467\n",
       " test_mae         0.730757\n",
       " fit_time        0.0876555\n",
       " test_time        0.198473\n",
       " Algorithm    BaselineOnly\n",
       " dtype: object, test_rmse    0.947368\n",
       " test_mae     0.747777\n",
       " fit_time      0.19506\n",
       " test_time     5.17908\n",
       " Algorithm    KNNBasic\n",
       " dtype: object]"
      ]
     },
     "execution_count": 48,
     "metadata": {},
     "output_type": "execute_result"
    }
   ],
   "source": [
    "# benchmark\n",
    "results_benchmarking"
   ]
  },
  {
   "cell_type": "code",
   "execution_count": 49,
   "metadata": {},
   "outputs": [],
   "source": [
    "surprise_results = pd.DataFrame(results_benchmarking).set_index('Algorithm').sort_values('test_rmse')"
   ]
  },
  {
   "cell_type": "code",
   "execution_count": 50,
   "metadata": {},
   "outputs": [
    {
     "data": {
      "text/html": [
       "<div>\n",
       "<style scoped>\n",
       "    .dataframe tbody tr th:only-of-type {\n",
       "        vertical-align: middle;\n",
       "    }\n",
       "\n",
       "    .dataframe tbody tr th {\n",
       "        vertical-align: top;\n",
       "    }\n",
       "\n",
       "    .dataframe thead th {\n",
       "        text-align: right;\n",
       "    }\n",
       "</style>\n",
       "<table border=\"1\" class=\"dataframe\">\n",
       "  <thead>\n",
       "    <tr style=\"text-align: right;\">\n",
       "      <th></th>\n",
       "      <th>test_rmse</th>\n",
       "      <th>test_mae</th>\n",
       "      <th>fit_time</th>\n",
       "      <th>test_time</th>\n",
       "    </tr>\n",
       "    <tr>\n",
       "      <th>Algorithm</th>\n",
       "      <th></th>\n",
       "      <th></th>\n",
       "      <th></th>\n",
       "      <th></th>\n",
       "    </tr>\n",
       "  </thead>\n",
       "  <tbody>\n",
       "    <tr>\n",
       "      <th>SVDpp</th>\n",
       "      <td>0.904558</td>\n",
       "      <td>0.709028</td>\n",
       "      <td>102.723677</td>\n",
       "      <td>4.021755</td>\n",
       "    </tr>\n",
       "    <tr>\n",
       "      <th>SVD</th>\n",
       "      <td>0.920864</td>\n",
       "      <td>0.724225</td>\n",
       "      <td>3.829443</td>\n",
       "      <td>0.288781</td>\n",
       "    </tr>\n",
       "    <tr>\n",
       "      <th>KNNWithMeans</th>\n",
       "      <td>0.922725</td>\n",
       "      <td>0.727019</td>\n",
       "      <td>0.205455</td>\n",
       "      <td>5.347816</td>\n",
       "    </tr>\n",
       "    <tr>\n",
       "      <th>BaselineOnly</th>\n",
       "      <td>0.924670</td>\n",
       "      <td>0.730757</td>\n",
       "      <td>0.087655</td>\n",
       "      <td>0.198473</td>\n",
       "    </tr>\n",
       "    <tr>\n",
       "      <th>KNNBasic</th>\n",
       "      <td>0.947368</td>\n",
       "      <td>0.747777</td>\n",
       "      <td>0.195060</td>\n",
       "      <td>5.179079</td>\n",
       "    </tr>\n",
       "    <tr>\n",
       "      <th>NMF</th>\n",
       "      <td>0.966079</td>\n",
       "      <td>0.775310</td>\n",
       "      <td>3.708604</td>\n",
       "      <td>0.241845</td>\n",
       "    </tr>\n",
       "  </tbody>\n",
       "</table>\n",
       "</div>"
      ],
      "text/plain": [
       "              test_rmse  test_mae    fit_time  test_time\n",
       "Algorithm                                               \n",
       "SVDpp          0.904558  0.709028  102.723677   4.021755\n",
       "SVD            0.920864  0.724225    3.829443   0.288781\n",
       "KNNWithMeans   0.922725  0.727019    0.205455   5.347816\n",
       "BaselineOnly   0.924670  0.730757    0.087655   0.198473\n",
       "KNNBasic       0.947368  0.747777    0.195060   5.179079\n",
       "NMF            0.966079  0.775310    3.708604   0.241845"
      ]
     },
     "execution_count": 50,
     "metadata": {},
     "output_type": "execute_result"
    }
   ],
   "source": [
    "surprise_results\n"
   ]
  },
  {
   "cell_type": "code",
   "execution_count": 51,
   "metadata": {},
   "outputs": [
    {
     "data": {
      "text/plain": [
       "{'test_rmse': array([0.89650824, 0.90592686, 0.90673962]),\n",
       " 'fit_time': (101.78808355331421, 101.94788432121277, 102.14864706993103),\n",
       " 'test_time': (3.8021562099456787, 3.6825084686279297, 3.8147494792938232)}"
      ]
     },
     "execution_count": 51,
     "metadata": {},
     "output_type": "execute_result"
    }
   ],
   "source": [
    "algo = SVDpp(n_factors=20,n_epochs=20)\n",
    "cross_validate(algo, data, measures=['RMSE'], cv=3, verbose=False)"
   ]
  },
  {
   "cell_type": "code",
   "execution_count": 52,
   "metadata": {},
   "outputs": [],
   "source": [
    "trainset, testset = train_test_split(data, test_size=0.3)\n",
    "algo = SVDpp(n_factors=20,n_epochs=20,lr_all=0.007,reg_all=0.02)"
   ]
  },
  {
   "cell_type": "code",
   "execution_count": 53,
   "metadata": {},
   "outputs": [
    {
     "name": "stdout",
     "output_type": "stream",
     "text": [
      "RMSE: 0.8959\n"
     ]
    },
    {
     "data": {
      "text/plain": [
       "0.8958798395406095"
      ]
     },
     "execution_count": 53,
     "metadata": {},
     "output_type": "execute_result"
    }
   ],
   "source": [
    "predictions = algo.fit(trainset).test(testset)\n",
    "accuracy.rmse(predictions)"
   ]
  },
  {
   "cell_type": "code",
   "execution_count": 54,
   "metadata": {},
   "outputs": [],
   "source": [
    "trainset = algo.trainset"
   ]
  },
  {
   "cell_type": "code",
   "execution_count": 55,
   "metadata": {},
   "outputs": [],
   "source": [
    "def list_from_df(df,col):\n",
    "    return df[col].tolist()"
   ]
  },
  {
   "cell_type": "code",
   "execution_count": 56,
   "metadata": {},
   "outputs": [],
   "source": [
    "def get_Iu(uid):\n",
    "    try:\n",
    "        return len(trainset.ur[trainset.to_inner_uid(uid)])\n",
    "    except ValueError: \n",
    "        return 0\n",
    "    \n",
    "def get_Ui(iid):\n",
    "    try: \n",
    "        return len(trainset.ir[trainset.to_inner_iid(iid)])\n",
    "    except ValueError:\n",
    "        return 0\n",
    "    \n",
    "df = pd.DataFrame(predictions, columns=['uid', 'iid', 'rui', 'est', 'details'])\n",
    "df['Iu'] = df.uid.apply(get_Iu)\n",
    "df['Ui'] = df.iid.apply(get_Ui)\n",
    "df['err'] = abs(df.est - df.rui)"
   ]
  },
  {
   "cell_type": "code",
   "execution_count": 57,
   "metadata": {},
   "outputs": [
    {
     "data": {
      "application/vnd.plotly.v1+json": {
       "config": {
        "plotlyServerURL": "https://plot.ly"
       },
       "data": [
        {
         "mode": "lines",
         "name": "Actual",
         "type": "scatter",
         "x": [
          8,
          10,
          12,
          15,
          23,
          25,
          28,
          54,
          56,
          72,
          79,
          82,
          94,
          96,
          97,
          99,
          109,
          113,
          116,
          123,
          130,
          137,
          144,
          145,
          148,
          151,
          154,
          157,
          161,
          162,
          176,
          188,
          189,
          194,
          198,
          201,
          214,
          216,
          222,
          232,
          236,
          254,
          257,
          265,
          267,
          268,
          269,
          270,
          277,
          279,
          280,
          290,
          293,
          295,
          303,
          316,
          321,
          323,
          324,
          328,
          330,
          336,
          343,
          344,
          345,
          346,
          347,
          350,
          354,
          367,
          368,
          371,
          373,
          389,
          397,
          402,
          405,
          409,
          417,
          432,
          447,
          450,
          454,
          456,
          458,
          459,
          470,
          478,
          481,
          483,
          490,
          494,
          496,
          499,
          506,
          508,
          514,
          524,
          537,
          539,
          540,
          546,
          548,
          551,
          557,
          566,
          567,
          586,
          588,
          593,
          606,
          610,
          618,
          619,
          624,
          642,
          648,
          654,
          655,
          674,
          679,
          697,
          698,
          711,
          738,
          749,
          753,
          756,
          761,
          786,
          790,
          793,
          796,
          807,
          815,
          823,
          834,
          835,
          867,
          880,
          882,
          885,
          890,
          891,
          893,
          894,
          897,
          924,
          930,
          933
         ],
         "y": [
          5,
          2,
          5,
          5,
          5,
          4,
          3,
          4,
          5,
          4,
          5,
          4,
          5,
          5,
          2,
          4,
          5,
          5,
          5,
          5,
          2,
          3,
          2,
          4,
          5,
          5,
          5,
          5,
          5,
          4,
          5,
          3,
          5,
          1,
          5,
          5,
          5,
          5,
          5,
          5,
          5,
          3,
          4,
          5,
          4,
          4,
          4,
          3,
          5,
          5,
          5,
          4,
          5,
          5,
          5,
          5,
          4,
          5,
          4,
          3,
          5,
          5,
          5,
          3,
          5,
          4,
          4,
          3,
          3,
          5,
          3,
          4,
          4,
          2,
          5,
          5,
          5,
          5,
          5,
          4,
          4,
          5,
          3,
          5,
          4,
          4,
          5,
          4,
          5,
          4,
          5,
          5,
          5,
          5,
          4,
          5,
          1,
          5,
          5,
          4,
          3,
          4,
          5,
          4,
          5,
          5,
          2,
          4,
          4,
          5,
          5,
          5,
          5,
          4,
          3,
          5,
          4,
          4,
          4,
          4,
          5,
          5,
          5,
          3,
          5,
          4,
          5,
          5,
          5,
          4,
          5,
          4,
          5,
          5,
          5,
          4,
          5,
          5,
          5,
          5,
          5,
          5,
          5,
          5,
          5,
          5,
          5,
          5,
          5,
          2
         ]
        },
        {
         "mode": "lines",
         "name": "Predicted",
         "type": "scatter",
         "x": [
          8,
          10,
          12,
          15,
          23,
          25,
          28,
          54,
          56,
          72,
          79,
          82,
          94,
          96,
          97,
          99,
          109,
          113,
          116,
          123,
          130,
          137,
          144,
          145,
          148,
          151,
          154,
          157,
          161,
          162,
          176,
          188,
          189,
          194,
          198,
          201,
          214,
          216,
          222,
          232,
          236,
          254,
          257,
          265,
          267,
          268,
          269,
          270,
          277,
          279,
          280,
          290,
          293,
          295,
          303,
          316,
          321,
          323,
          324,
          328,
          330,
          336,
          343,
          344,
          345,
          346,
          347,
          350,
          354,
          367,
          368,
          371,
          373,
          389,
          397,
          402,
          405,
          409,
          417,
          432,
          447,
          450,
          454,
          456,
          458,
          459,
          470,
          478,
          481,
          483,
          490,
          494,
          496,
          499,
          506,
          508,
          514,
          524,
          537,
          539,
          540,
          546,
          548,
          551,
          557,
          566,
          567,
          586,
          588,
          593,
          606,
          610,
          618,
          619,
          624,
          642,
          648,
          654,
          655,
          674,
          679,
          697,
          698,
          711,
          738,
          749,
          753,
          756,
          761,
          786,
          790,
          793,
          796,
          807,
          815,
          823,
          834,
          835,
          867,
          880,
          882,
          885,
          890,
          891,
          893,
          894,
          897,
          924,
          930,
          933
         ],
         "y": [
          5,
          4.41010190107879,
          5,
          5,
          4.2279119019610665,
          4.202573764401541,
          4.3051909348529325,
          4.719297188840271,
          4.005557524644884,
          4.7609089726965,
          4.885596662669637,
          3.709842959354204,
          4.982761316811073,
          5,
          4.379708744815592,
          4.2960816502510255,
          4.821224692613806,
          4.945792101145724,
          4.387228954994797,
          4.438891089285027,
          4.179946752288801,
          4.202114236385984,
          4.633248671255218,
          4.187925256111283,
          5,
          4.156501348673246,
          4.29972320745118,
          4.359386490887653,
          4.412501521654313,
          4.238002539454549,
          4.670719587724909,
          4.1446742444836095,
          4.717458936692001,
          3.986087696789207,
          4.492343743047755,
          4.870371629404715,
          4.430512839129326,
          3.536942864300239,
          4.059197402532765,
          4.327639426758411,
          4.621600669223675,
          4.416721216675993,
          4.407043783772441,
          4.886148943933419,
          3.4440048484579746,
          4.845892253300356,
          4.840106594353063,
          4.132873374246115,
          4.342800875851045,
          3.4935186346148557,
          4.436335964101281,
          4.409657526635304,
          4.488187979594095,
          4.455494897928199,
          2.951935417641362,
          4.571891456191147,
          4.112604611837225,
          4.883001363866852,
          3.764886973714244,
          3.628089651203493,
          4.117513387249607,
          4.674019194140047,
          4.3701588416796895,
          4.105145526945433,
          4.880864370850058,
          4.130079659208444,
          4.171389522039355,
          3.866393169495761,
          3.5702034457937852,
          4.387091420967027,
          3.766625294988601,
          4.6513304019955335,
          4.325678119995258,
          3.897313417214158,
          4.324563764186302,
          4.738225086767594,
          4.120624003937481,
          4.617598615471629,
          4.203142237049215,
          3.3549883590999867,
          4.5781337197854866,
          4.599614844181449,
          3.9670448571603476,
          5,
          4.089566094008655,
          4.764083604048665,
          4.542946475983919,
          4.3883172062904565,
          4.269604173194734,
          3.758495768066097,
          4.0655646538209,
          4.620171638795762,
          3.964998777929937,
          4.641983144510905,
          3.851354442884946,
          4.613853188984279,
          3.710524120395662,
          4.105461473014042,
          4.5152848154641525,
          4.541123078976331,
          3.6489468839213206,
          4.512190737935697,
          4.435051840249548,
          3.5579017985503363,
          4.1572046047355435,
          4.813188424098247,
          2.870313858238819,
          3.920074081805928,
          3.251673859039447,
          4.8613831428100625,
          3.457038307574523,
          4.275650864242277,
          4.569865781232044,
          4.0431956665336815,
          4.412428805594858,
          4.302362770835603,
          4.031891019099152,
          4.654343178429442,
          3.908471881847718,
          3.708912375462827,
          4.568912795635771,
          4.847882827602783,
          3.8661643178737357,
          4.162483794584398,
          4.711989128336922,
          3.8376128178530395,
          4.684104887130122,
          4.69236434830244,
          4.589970656373549,
          4.369181688070831,
          4.1792328206999665,
          4.882475524211485,
          4.628290293504675,
          4.750241642239868,
          4.594111962278528,
          4.565090738082664,
          4.73689499310715,
          4.04147252316892,
          4.103924303834273,
          4.943871999221194,
          4.399785639428125,
          4.599685183863417,
          4.227795107650647,
          4.376091278968304,
          4.69312421205271,
          4.445165515074507,
          4.6090415684957495,
          4.307419103050874,
          4.921142012077395,
          3.76725147637491
         ]
        }
       ],
       "layout": {
        "template": {
         "data": {
          "bar": [
           {
            "error_x": {
             "color": "#2a3f5f"
            },
            "error_y": {
             "color": "#2a3f5f"
            },
            "marker": {
             "line": {
              "color": "#E5ECF6",
              "width": 0.5
             }
            },
            "type": "bar"
           }
          ],
          "barpolar": [
           {
            "marker": {
             "line": {
              "color": "#E5ECF6",
              "width": 0.5
             }
            },
            "type": "barpolar"
           }
          ],
          "carpet": [
           {
            "aaxis": {
             "endlinecolor": "#2a3f5f",
             "gridcolor": "white",
             "linecolor": "white",
             "minorgridcolor": "white",
             "startlinecolor": "#2a3f5f"
            },
            "baxis": {
             "endlinecolor": "#2a3f5f",
             "gridcolor": "white",
             "linecolor": "white",
             "minorgridcolor": "white",
             "startlinecolor": "#2a3f5f"
            },
            "type": "carpet"
           }
          ],
          "choropleth": [
           {
            "colorbar": {
             "outlinewidth": 0,
             "ticks": ""
            },
            "type": "choropleth"
           }
          ],
          "contour": [
           {
            "colorbar": {
             "outlinewidth": 0,
             "ticks": ""
            },
            "colorscale": [
             [
              0,
              "#0d0887"
             ],
             [
              0.1111111111111111,
              "#46039f"
             ],
             [
              0.2222222222222222,
              "#7201a8"
             ],
             [
              0.3333333333333333,
              "#9c179e"
             ],
             [
              0.4444444444444444,
              "#bd3786"
             ],
             [
              0.5555555555555556,
              "#d8576b"
             ],
             [
              0.6666666666666666,
              "#ed7953"
             ],
             [
              0.7777777777777778,
              "#fb9f3a"
             ],
             [
              0.8888888888888888,
              "#fdca26"
             ],
             [
              1,
              "#f0f921"
             ]
            ],
            "type": "contour"
           }
          ],
          "contourcarpet": [
           {
            "colorbar": {
             "outlinewidth": 0,
             "ticks": ""
            },
            "type": "contourcarpet"
           }
          ],
          "heatmap": [
           {
            "colorbar": {
             "outlinewidth": 0,
             "ticks": ""
            },
            "colorscale": [
             [
              0,
              "#0d0887"
             ],
             [
              0.1111111111111111,
              "#46039f"
             ],
             [
              0.2222222222222222,
              "#7201a8"
             ],
             [
              0.3333333333333333,
              "#9c179e"
             ],
             [
              0.4444444444444444,
              "#bd3786"
             ],
             [
              0.5555555555555556,
              "#d8576b"
             ],
             [
              0.6666666666666666,
              "#ed7953"
             ],
             [
              0.7777777777777778,
              "#fb9f3a"
             ],
             [
              0.8888888888888888,
              "#fdca26"
             ],
             [
              1,
              "#f0f921"
             ]
            ],
            "type": "heatmap"
           }
          ],
          "heatmapgl": [
           {
            "colorbar": {
             "outlinewidth": 0,
             "ticks": ""
            },
            "colorscale": [
             [
              0,
              "#0d0887"
             ],
             [
              0.1111111111111111,
              "#46039f"
             ],
             [
              0.2222222222222222,
              "#7201a8"
             ],
             [
              0.3333333333333333,
              "#9c179e"
             ],
             [
              0.4444444444444444,
              "#bd3786"
             ],
             [
              0.5555555555555556,
              "#d8576b"
             ],
             [
              0.6666666666666666,
              "#ed7953"
             ],
             [
              0.7777777777777778,
              "#fb9f3a"
             ],
             [
              0.8888888888888888,
              "#fdca26"
             ],
             [
              1,
              "#f0f921"
             ]
            ],
            "type": "heatmapgl"
           }
          ],
          "histogram": [
           {
            "marker": {
             "colorbar": {
              "outlinewidth": 0,
              "ticks": ""
             }
            },
            "type": "histogram"
           }
          ],
          "histogram2d": [
           {
            "colorbar": {
             "outlinewidth": 0,
             "ticks": ""
            },
            "colorscale": [
             [
              0,
              "#0d0887"
             ],
             [
              0.1111111111111111,
              "#46039f"
             ],
             [
              0.2222222222222222,
              "#7201a8"
             ],
             [
              0.3333333333333333,
              "#9c179e"
             ],
             [
              0.4444444444444444,
              "#bd3786"
             ],
             [
              0.5555555555555556,
              "#d8576b"
             ],
             [
              0.6666666666666666,
              "#ed7953"
             ],
             [
              0.7777777777777778,
              "#fb9f3a"
             ],
             [
              0.8888888888888888,
              "#fdca26"
             ],
             [
              1,
              "#f0f921"
             ]
            ],
            "type": "histogram2d"
           }
          ],
          "histogram2dcontour": [
           {
            "colorbar": {
             "outlinewidth": 0,
             "ticks": ""
            },
            "colorscale": [
             [
              0,
              "#0d0887"
             ],
             [
              0.1111111111111111,
              "#46039f"
             ],
             [
              0.2222222222222222,
              "#7201a8"
             ],
             [
              0.3333333333333333,
              "#9c179e"
             ],
             [
              0.4444444444444444,
              "#bd3786"
             ],
             [
              0.5555555555555556,
              "#d8576b"
             ],
             [
              0.6666666666666666,
              "#ed7953"
             ],
             [
              0.7777777777777778,
              "#fb9f3a"
             ],
             [
              0.8888888888888888,
              "#fdca26"
             ],
             [
              1,
              "#f0f921"
             ]
            ],
            "type": "histogram2dcontour"
           }
          ],
          "mesh3d": [
           {
            "colorbar": {
             "outlinewidth": 0,
             "ticks": ""
            },
            "type": "mesh3d"
           }
          ],
          "parcoords": [
           {
            "line": {
             "colorbar": {
              "outlinewidth": 0,
              "ticks": ""
             }
            },
            "type": "parcoords"
           }
          ],
          "scatter": [
           {
            "marker": {
             "colorbar": {
              "outlinewidth": 0,
              "ticks": ""
             }
            },
            "type": "scatter"
           }
          ],
          "scatter3d": [
           {
            "line": {
             "colorbar": {
              "outlinewidth": 0,
              "ticks": ""
             }
            },
            "marker": {
             "colorbar": {
              "outlinewidth": 0,
              "ticks": ""
             }
            },
            "type": "scatter3d"
           }
          ],
          "scattercarpet": [
           {
            "marker": {
             "colorbar": {
              "outlinewidth": 0,
              "ticks": ""
             }
            },
            "type": "scattercarpet"
           }
          ],
          "scattergeo": [
           {
            "marker": {
             "colorbar": {
              "outlinewidth": 0,
              "ticks": ""
             }
            },
            "type": "scattergeo"
           }
          ],
          "scattergl": [
           {
            "marker": {
             "colorbar": {
              "outlinewidth": 0,
              "ticks": ""
             }
            },
            "type": "scattergl"
           }
          ],
          "scattermapbox": [
           {
            "marker": {
             "colorbar": {
              "outlinewidth": 0,
              "ticks": ""
             }
            },
            "type": "scattermapbox"
           }
          ],
          "scatterpolar": [
           {
            "marker": {
             "colorbar": {
              "outlinewidth": 0,
              "ticks": ""
             }
            },
            "type": "scatterpolar"
           }
          ],
          "scatterpolargl": [
           {
            "marker": {
             "colorbar": {
              "outlinewidth": 0,
              "ticks": ""
             }
            },
            "type": "scatterpolargl"
           }
          ],
          "scatterternary": [
           {
            "marker": {
             "colorbar": {
              "outlinewidth": 0,
              "ticks": ""
             }
            },
            "type": "scatterternary"
           }
          ],
          "surface": [
           {
            "colorbar": {
             "outlinewidth": 0,
             "ticks": ""
            },
            "colorscale": [
             [
              0,
              "#0d0887"
             ],
             [
              0.1111111111111111,
              "#46039f"
             ],
             [
              0.2222222222222222,
              "#7201a8"
             ],
             [
              0.3333333333333333,
              "#9c179e"
             ],
             [
              0.4444444444444444,
              "#bd3786"
             ],
             [
              0.5555555555555556,
              "#d8576b"
             ],
             [
              0.6666666666666666,
              "#ed7953"
             ],
             [
              0.7777777777777778,
              "#fb9f3a"
             ],
             [
              0.8888888888888888,
              "#fdca26"
             ],
             [
              1,
              "#f0f921"
             ]
            ],
            "type": "surface"
           }
          ],
          "table": [
           {
            "cells": {
             "fill": {
              "color": "#EBF0F8"
             },
             "line": {
              "color": "white"
             }
            },
            "header": {
             "fill": {
              "color": "#C8D4E3"
             },
             "line": {
              "color": "white"
             }
            },
            "type": "table"
           }
          ]
         },
         "layout": {
          "annotationdefaults": {
           "arrowcolor": "#2a3f5f",
           "arrowhead": 0,
           "arrowwidth": 1
          },
          "colorscale": {
           "diverging": [
            [
             0,
             "#8e0152"
            ],
            [
             0.1,
             "#c51b7d"
            ],
            [
             0.2,
             "#de77ae"
            ],
            [
             0.3,
             "#f1b6da"
            ],
            [
             0.4,
             "#fde0ef"
            ],
            [
             0.5,
             "#f7f7f7"
            ],
            [
             0.6,
             "#e6f5d0"
            ],
            [
             0.7,
             "#b8e186"
            ],
            [
             0.8,
             "#7fbc41"
            ],
            [
             0.9,
             "#4d9221"
            ],
            [
             1,
             "#276419"
            ]
           ],
           "sequential": [
            [
             0,
             "#0d0887"
            ],
            [
             0.1111111111111111,
             "#46039f"
            ],
            [
             0.2222222222222222,
             "#7201a8"
            ],
            [
             0.3333333333333333,
             "#9c179e"
            ],
            [
             0.4444444444444444,
             "#bd3786"
            ],
            [
             0.5555555555555556,
             "#d8576b"
            ],
            [
             0.6666666666666666,
             "#ed7953"
            ],
            [
             0.7777777777777778,
             "#fb9f3a"
            ],
            [
             0.8888888888888888,
             "#fdca26"
            ],
            [
             1,
             "#f0f921"
            ]
           ],
           "sequentialminus": [
            [
             0,
             "#0d0887"
            ],
            [
             0.1111111111111111,
             "#46039f"
            ],
            [
             0.2222222222222222,
             "#7201a8"
            ],
            [
             0.3333333333333333,
             "#9c179e"
            ],
            [
             0.4444444444444444,
             "#bd3786"
            ],
            [
             0.5555555555555556,
             "#d8576b"
            ],
            [
             0.6666666666666666,
             "#ed7953"
            ],
            [
             0.7777777777777778,
             "#fb9f3a"
            ],
            [
             0.8888888888888888,
             "#fdca26"
            ],
            [
             1,
             "#f0f921"
            ]
           ]
          },
          "colorway": [
           "#636efa",
           "#EF553B",
           "#00cc96",
           "#ab63fa",
           "#FFA15A",
           "#19d3f3",
           "#FF6692",
           "#B6E880",
           "#FF97FF",
           "#FECB52"
          ],
          "font": {
           "color": "#2a3f5f"
          },
          "geo": {
           "bgcolor": "white",
           "lakecolor": "white",
           "landcolor": "#E5ECF6",
           "showlakes": true,
           "showland": true,
           "subunitcolor": "white"
          },
          "hoverlabel": {
           "align": "left"
          },
          "hovermode": "closest",
          "mapbox": {
           "style": "light"
          },
          "paper_bgcolor": "white",
          "plot_bgcolor": "#E5ECF6",
          "polar": {
           "angularaxis": {
            "gridcolor": "white",
            "linecolor": "white",
            "ticks": ""
           },
           "bgcolor": "#E5ECF6",
           "radialaxis": {
            "gridcolor": "white",
            "linecolor": "white",
            "ticks": ""
           }
          },
          "scene": {
           "xaxis": {
            "backgroundcolor": "#E5ECF6",
            "gridcolor": "white",
            "gridwidth": 2,
            "linecolor": "white",
            "showbackground": true,
            "ticks": "",
            "zerolinecolor": "white"
           },
           "yaxis": {
            "backgroundcolor": "#E5ECF6",
            "gridcolor": "white",
            "gridwidth": 2,
            "linecolor": "white",
            "showbackground": true,
            "ticks": "",
            "zerolinecolor": "white"
           },
           "zaxis": {
            "backgroundcolor": "#E5ECF6",
            "gridcolor": "white",
            "gridwidth": 2,
            "linecolor": "white",
            "showbackground": true,
            "ticks": "",
            "zerolinecolor": "white"
           }
          },
          "shapedefaults": {
           "line": {
            "color": "#2a3f5f"
           }
          },
          "ternary": {
           "aaxis": {
            "gridcolor": "white",
            "linecolor": "white",
            "ticks": ""
           },
           "baxis": {
            "gridcolor": "white",
            "linecolor": "white",
            "ticks": ""
           },
           "bgcolor": "#E5ECF6",
           "caxis": {
            "gridcolor": "white",
            "linecolor": "white",
            "ticks": ""
           }
          },
          "title": {
           "x": 0.05
          },
          "xaxis": {
           "automargin": true,
           "gridcolor": "white",
           "linecolor": "white",
           "ticks": "",
           "zerolinecolor": "white",
           "zerolinewidth": 2
          },
          "yaxis": {
           "automargin": true,
           "gridcolor": "white",
           "linecolor": "white",
           "ticks": "",
           "zerolinecolor": "white",
           "zerolinewidth": 2
          }
         }
        }
       }
      },
      "text/html": [
       "<div>\n",
       "        \n",
       "        \n",
       "            <div id=\"94047b39-a30a-42ea-a31f-df5e1f33a778\" class=\"plotly-graph-div\" style=\"height:525px; width:100%;\"></div>\n",
       "            <script type=\"text/javascript\">\n",
       "                require([\"plotly\"], function(Plotly) {\n",
       "                    window.PLOTLYENV=window.PLOTLYENV || {};\n",
       "                    \n",
       "                if (document.getElementById(\"94047b39-a30a-42ea-a31f-df5e1f33a778\")) {\n",
       "                    Plotly.newPlot(\n",
       "                        '94047b39-a30a-42ea-a31f-df5e1f33a778',\n",
       "                        [{\"mode\": \"lines\", \"name\": \"Actual\", \"type\": \"scatter\", \"x\": [8, 10, 12, 15, 23, 25, 28, 54, 56, 72, 79, 82, 94, 96, 97, 99, 109, 113, 116, 123, 130, 137, 144, 145, 148, 151, 154, 157, 161, 162, 176, 188, 189, 194, 198, 201, 214, 216, 222, 232, 236, 254, 257, 265, 267, 268, 269, 270, 277, 279, 280, 290, 293, 295, 303, 316, 321, 323, 324, 328, 330, 336, 343, 344, 345, 346, 347, 350, 354, 367, 368, 371, 373, 389, 397, 402, 405, 409, 417, 432, 447, 450, 454, 456, 458, 459, 470, 478, 481, 483, 490, 494, 496, 499, 506, 508, 514, 524, 537, 539, 540, 546, 548, 551, 557, 566, 567, 586, 588, 593, 606, 610, 618, 619, 624, 642, 648, 654, 655, 674, 679, 697, 698, 711, 738, 749, 753, 756, 761, 786, 790, 793, 796, 807, 815, 823, 834, 835, 867, 880, 882, 885, 890, 891, 893, 894, 897, 924, 930, 933], \"y\": [5.0, 2.0, 5.0, 5.0, 5.0, 4.0, 3.0, 4.0, 5.0, 4.0, 5.0, 4.0, 5.0, 5.0, 2.0, 4.0, 5.0, 5.0, 5.0, 5.0, 2.0, 3.0, 2.0, 4.0, 5.0, 5.0, 5.0, 5.0, 5.0, 4.0, 5.0, 3.0, 5.0, 1.0, 5.0, 5.0, 5.0, 5.0, 5.0, 5.0, 5.0, 3.0, 4.0, 5.0, 4.0, 4.0, 4.0, 3.0, 5.0, 5.0, 5.0, 4.0, 5.0, 5.0, 5.0, 5.0, 4.0, 5.0, 4.0, 3.0, 5.0, 5.0, 5.0, 3.0, 5.0, 4.0, 4.0, 3.0, 3.0, 5.0, 3.0, 4.0, 4.0, 2.0, 5.0, 5.0, 5.0, 5.0, 5.0, 4.0, 4.0, 5.0, 3.0, 5.0, 4.0, 4.0, 5.0, 4.0, 5.0, 4.0, 5.0, 5.0, 5.0, 5.0, 4.0, 5.0, 1.0, 5.0, 5.0, 4.0, 3.0, 4.0, 5.0, 4.0, 5.0, 5.0, 2.0, 4.0, 4.0, 5.0, 5.0, 5.0, 5.0, 4.0, 3.0, 5.0, 4.0, 4.0, 4.0, 4.0, 5.0, 5.0, 5.0, 3.0, 5.0, 4.0, 5.0, 5.0, 5.0, 4.0, 5.0, 4.0, 5.0, 5.0, 5.0, 4.0, 5.0, 5.0, 5.0, 5.0, 5.0, 5.0, 5.0, 5.0, 5.0, 5.0, 5.0, 5.0, 5.0, 2.0]}, {\"mode\": \"lines\", \"name\": \"Predicted\", \"type\": \"scatter\", \"x\": [8, 10, 12, 15, 23, 25, 28, 54, 56, 72, 79, 82, 94, 96, 97, 99, 109, 113, 116, 123, 130, 137, 144, 145, 148, 151, 154, 157, 161, 162, 176, 188, 189, 194, 198, 201, 214, 216, 222, 232, 236, 254, 257, 265, 267, 268, 269, 270, 277, 279, 280, 290, 293, 295, 303, 316, 321, 323, 324, 328, 330, 336, 343, 344, 345, 346, 347, 350, 354, 367, 368, 371, 373, 389, 397, 402, 405, 409, 417, 432, 447, 450, 454, 456, 458, 459, 470, 478, 481, 483, 490, 494, 496, 499, 506, 508, 514, 524, 537, 539, 540, 546, 548, 551, 557, 566, 567, 586, 588, 593, 606, 610, 618, 619, 624, 642, 648, 654, 655, 674, 679, 697, 698, 711, 738, 749, 753, 756, 761, 786, 790, 793, 796, 807, 815, 823, 834, 835, 867, 880, 882, 885, 890, 891, 893, 894, 897, 924, 930, 933], \"y\": [5.0, 4.41010190107879, 5.0, 5.0, 4.2279119019610665, 4.202573764401541, 4.3051909348529325, 4.719297188840271, 4.005557524644884, 4.7609089726965, 4.885596662669637, 3.709842959354204, 4.982761316811073, 5.0, 4.379708744815592, 4.2960816502510255, 4.821224692613806, 4.945792101145724, 4.387228954994797, 4.438891089285027, 4.179946752288801, 4.202114236385984, 4.633248671255218, 4.187925256111283, 5.0, 4.156501348673246, 4.29972320745118, 4.359386490887653, 4.412501521654313, 4.238002539454549, 4.670719587724909, 4.1446742444836095, 4.717458936692001, 3.986087696789207, 4.492343743047755, 4.870371629404715, 4.430512839129326, 3.536942864300239, 4.059197402532765, 4.327639426758411, 4.621600669223675, 4.416721216675993, 4.407043783772441, 4.886148943933419, 3.4440048484579746, 4.845892253300356, 4.840106594353063, 4.132873374246115, 4.342800875851045, 3.4935186346148557, 4.436335964101281, 4.409657526635304, 4.488187979594095, 4.455494897928199, 2.951935417641362, 4.571891456191147, 4.112604611837225, 4.883001363866852, 3.764886973714244, 3.628089651203493, 4.117513387249607, 4.674019194140047, 4.3701588416796895, 4.105145526945433, 4.880864370850058, 4.130079659208444, 4.171389522039355, 3.866393169495761, 3.5702034457937852, 4.387091420967027, 3.766625294988601, 4.6513304019955335, 4.325678119995258, 3.897313417214158, 4.324563764186302, 4.738225086767594, 4.120624003937481, 4.617598615471629, 4.203142237049215, 3.3549883590999867, 4.5781337197854866, 4.599614844181449, 3.9670448571603476, 5.0, 4.089566094008655, 4.764083604048665, 4.542946475983919, 4.3883172062904565, 4.269604173194734, 3.758495768066097, 4.0655646538209, 4.620171638795762, 3.964998777929937, 4.641983144510905, 3.851354442884946, 4.613853188984279, 3.710524120395662, 4.105461473014042, 4.5152848154641525, 4.541123078976331, 3.6489468839213206, 4.512190737935697, 4.435051840249548, 3.5579017985503363, 4.1572046047355435, 4.813188424098247, 2.870313858238819, 3.920074081805928, 3.251673859039447, 4.8613831428100625, 3.457038307574523, 4.275650864242277, 4.569865781232044, 4.0431956665336815, 4.412428805594858, 4.302362770835603, 4.031891019099152, 4.654343178429442, 3.908471881847718, 3.708912375462827, 4.568912795635771, 4.847882827602783, 3.8661643178737357, 4.162483794584398, 4.711989128336922, 3.8376128178530395, 4.684104887130122, 4.69236434830244, 4.589970656373549, 4.369181688070831, 4.1792328206999665, 4.882475524211485, 4.628290293504675, 4.750241642239868, 4.594111962278528, 4.565090738082664, 4.73689499310715, 4.04147252316892, 4.103924303834273, 4.943871999221194, 4.399785639428125, 4.599685183863417, 4.227795107650647, 4.376091278968304, 4.69312421205271, 4.445165515074507, 4.6090415684957495, 4.307419103050874, 4.921142012077395, 3.76725147637491]}],\n",
       "                        {\"template\": {\"data\": {\"bar\": [{\"error_x\": {\"color\": \"#2a3f5f\"}, \"error_y\": {\"color\": \"#2a3f5f\"}, \"marker\": {\"line\": {\"color\": \"#E5ECF6\", \"width\": 0.5}}, \"type\": \"bar\"}], \"barpolar\": [{\"marker\": {\"line\": {\"color\": \"#E5ECF6\", \"width\": 0.5}}, \"type\": \"barpolar\"}], \"carpet\": [{\"aaxis\": {\"endlinecolor\": \"#2a3f5f\", \"gridcolor\": \"white\", \"linecolor\": \"white\", \"minorgridcolor\": \"white\", \"startlinecolor\": \"#2a3f5f\"}, \"baxis\": {\"endlinecolor\": \"#2a3f5f\", \"gridcolor\": \"white\", \"linecolor\": \"white\", \"minorgridcolor\": \"white\", \"startlinecolor\": \"#2a3f5f\"}, \"type\": \"carpet\"}], \"choropleth\": [{\"colorbar\": {\"outlinewidth\": 0, \"ticks\": \"\"}, \"type\": \"choropleth\"}], \"contour\": [{\"colorbar\": {\"outlinewidth\": 0, \"ticks\": \"\"}, \"colorscale\": [[0.0, \"#0d0887\"], [0.1111111111111111, \"#46039f\"], [0.2222222222222222, \"#7201a8\"], [0.3333333333333333, \"#9c179e\"], [0.4444444444444444, \"#bd3786\"], [0.5555555555555556, \"#d8576b\"], [0.6666666666666666, \"#ed7953\"], [0.7777777777777778, \"#fb9f3a\"], [0.8888888888888888, \"#fdca26\"], [1.0, \"#f0f921\"]], \"type\": \"contour\"}], \"contourcarpet\": [{\"colorbar\": {\"outlinewidth\": 0, \"ticks\": \"\"}, \"type\": \"contourcarpet\"}], \"heatmap\": [{\"colorbar\": {\"outlinewidth\": 0, \"ticks\": \"\"}, \"colorscale\": [[0.0, \"#0d0887\"], [0.1111111111111111, \"#46039f\"], [0.2222222222222222, \"#7201a8\"], [0.3333333333333333, \"#9c179e\"], [0.4444444444444444, \"#bd3786\"], [0.5555555555555556, \"#d8576b\"], [0.6666666666666666, \"#ed7953\"], [0.7777777777777778, \"#fb9f3a\"], [0.8888888888888888, \"#fdca26\"], [1.0, \"#f0f921\"]], \"type\": \"heatmap\"}], \"heatmapgl\": [{\"colorbar\": {\"outlinewidth\": 0, \"ticks\": \"\"}, \"colorscale\": [[0.0, \"#0d0887\"], [0.1111111111111111, \"#46039f\"], [0.2222222222222222, \"#7201a8\"], [0.3333333333333333, \"#9c179e\"], [0.4444444444444444, \"#bd3786\"], [0.5555555555555556, \"#d8576b\"], [0.6666666666666666, \"#ed7953\"], [0.7777777777777778, \"#fb9f3a\"], [0.8888888888888888, \"#fdca26\"], [1.0, \"#f0f921\"]], \"type\": \"heatmapgl\"}], \"histogram\": [{\"marker\": {\"colorbar\": {\"outlinewidth\": 0, \"ticks\": \"\"}}, \"type\": \"histogram\"}], \"histogram2d\": [{\"colorbar\": {\"outlinewidth\": 0, \"ticks\": \"\"}, \"colorscale\": [[0.0, \"#0d0887\"], [0.1111111111111111, \"#46039f\"], [0.2222222222222222, \"#7201a8\"], [0.3333333333333333, \"#9c179e\"], [0.4444444444444444, \"#bd3786\"], [0.5555555555555556, \"#d8576b\"], [0.6666666666666666, \"#ed7953\"], [0.7777777777777778, \"#fb9f3a\"], [0.8888888888888888, \"#fdca26\"], [1.0, \"#f0f921\"]], \"type\": \"histogram2d\"}], \"histogram2dcontour\": [{\"colorbar\": {\"outlinewidth\": 0, \"ticks\": \"\"}, \"colorscale\": [[0.0, \"#0d0887\"], [0.1111111111111111, \"#46039f\"], [0.2222222222222222, \"#7201a8\"], [0.3333333333333333, \"#9c179e\"], [0.4444444444444444, \"#bd3786\"], [0.5555555555555556, \"#d8576b\"], [0.6666666666666666, \"#ed7953\"], [0.7777777777777778, \"#fb9f3a\"], [0.8888888888888888, \"#fdca26\"], [1.0, \"#f0f921\"]], \"type\": \"histogram2dcontour\"}], \"mesh3d\": [{\"colorbar\": {\"outlinewidth\": 0, \"ticks\": \"\"}, \"type\": \"mesh3d\"}], \"parcoords\": [{\"line\": {\"colorbar\": {\"outlinewidth\": 0, \"ticks\": \"\"}}, \"type\": \"parcoords\"}], \"scatter\": [{\"marker\": {\"colorbar\": {\"outlinewidth\": 0, \"ticks\": \"\"}}, \"type\": \"scatter\"}], \"scatter3d\": [{\"line\": {\"colorbar\": {\"outlinewidth\": 0, \"ticks\": \"\"}}, \"marker\": {\"colorbar\": {\"outlinewidth\": 0, \"ticks\": \"\"}}, \"type\": \"scatter3d\"}], \"scattercarpet\": [{\"marker\": {\"colorbar\": {\"outlinewidth\": 0, \"ticks\": \"\"}}, \"type\": \"scattercarpet\"}], \"scattergeo\": [{\"marker\": {\"colorbar\": {\"outlinewidth\": 0, \"ticks\": \"\"}}, \"type\": \"scattergeo\"}], \"scattergl\": [{\"marker\": {\"colorbar\": {\"outlinewidth\": 0, \"ticks\": \"\"}}, \"type\": \"scattergl\"}], \"scattermapbox\": [{\"marker\": {\"colorbar\": {\"outlinewidth\": 0, \"ticks\": \"\"}}, \"type\": \"scattermapbox\"}], \"scatterpolar\": [{\"marker\": {\"colorbar\": {\"outlinewidth\": 0, \"ticks\": \"\"}}, \"type\": \"scatterpolar\"}], \"scatterpolargl\": [{\"marker\": {\"colorbar\": {\"outlinewidth\": 0, \"ticks\": \"\"}}, \"type\": \"scatterpolargl\"}], \"scatterternary\": [{\"marker\": {\"colorbar\": {\"outlinewidth\": 0, \"ticks\": \"\"}}, \"type\": \"scatterternary\"}], \"surface\": [{\"colorbar\": {\"outlinewidth\": 0, \"ticks\": \"\"}, \"colorscale\": [[0.0, \"#0d0887\"], [0.1111111111111111, \"#46039f\"], [0.2222222222222222, \"#7201a8\"], [0.3333333333333333, \"#9c179e\"], [0.4444444444444444, \"#bd3786\"], [0.5555555555555556, \"#d8576b\"], [0.6666666666666666, \"#ed7953\"], [0.7777777777777778, \"#fb9f3a\"], [0.8888888888888888, \"#fdca26\"], [1.0, \"#f0f921\"]], \"type\": \"surface\"}], \"table\": [{\"cells\": {\"fill\": {\"color\": \"#EBF0F8\"}, \"line\": {\"color\": \"white\"}}, \"header\": {\"fill\": {\"color\": \"#C8D4E3\"}, \"line\": {\"color\": \"white\"}}, \"type\": \"table\"}]}, \"layout\": {\"annotationdefaults\": {\"arrowcolor\": \"#2a3f5f\", \"arrowhead\": 0, \"arrowwidth\": 1}, \"colorscale\": {\"diverging\": [[0, \"#8e0152\"], [0.1, \"#c51b7d\"], [0.2, \"#de77ae\"], [0.3, \"#f1b6da\"], [0.4, \"#fde0ef\"], [0.5, \"#f7f7f7\"], [0.6, \"#e6f5d0\"], [0.7, \"#b8e186\"], [0.8, \"#7fbc41\"], [0.9, \"#4d9221\"], [1, \"#276419\"]], \"sequential\": [[0.0, \"#0d0887\"], [0.1111111111111111, \"#46039f\"], [0.2222222222222222, \"#7201a8\"], [0.3333333333333333, \"#9c179e\"], [0.4444444444444444, \"#bd3786\"], [0.5555555555555556, \"#d8576b\"], [0.6666666666666666, \"#ed7953\"], [0.7777777777777778, \"#fb9f3a\"], [0.8888888888888888, \"#fdca26\"], [1.0, \"#f0f921\"]], \"sequentialminus\": [[0.0, \"#0d0887\"], [0.1111111111111111, \"#46039f\"], [0.2222222222222222, \"#7201a8\"], [0.3333333333333333, \"#9c179e\"], [0.4444444444444444, \"#bd3786\"], [0.5555555555555556, \"#d8576b\"], [0.6666666666666666, \"#ed7953\"], [0.7777777777777778, \"#fb9f3a\"], [0.8888888888888888, \"#fdca26\"], [1.0, \"#f0f921\"]]}, \"colorway\": [\"#636efa\", \"#EF553B\", \"#00cc96\", \"#ab63fa\", \"#FFA15A\", \"#19d3f3\", \"#FF6692\", \"#B6E880\", \"#FF97FF\", \"#FECB52\"], \"font\": {\"color\": \"#2a3f5f\"}, \"geo\": {\"bgcolor\": \"white\", \"lakecolor\": \"white\", \"landcolor\": \"#E5ECF6\", \"showlakes\": true, \"showland\": true, \"subunitcolor\": \"white\"}, \"hoverlabel\": {\"align\": \"left\"}, \"hovermode\": \"closest\", \"mapbox\": {\"style\": \"light\"}, \"paper_bgcolor\": \"white\", \"plot_bgcolor\": \"#E5ECF6\", \"polar\": {\"angularaxis\": {\"gridcolor\": \"white\", \"linecolor\": \"white\", \"ticks\": \"\"}, \"bgcolor\": \"#E5ECF6\", \"radialaxis\": {\"gridcolor\": \"white\", \"linecolor\": \"white\", \"ticks\": \"\"}}, \"scene\": {\"xaxis\": {\"backgroundcolor\": \"#E5ECF6\", \"gridcolor\": \"white\", \"gridwidth\": 2, \"linecolor\": \"white\", \"showbackground\": true, \"ticks\": \"\", \"zerolinecolor\": \"white\"}, \"yaxis\": {\"backgroundcolor\": \"#E5ECF6\", \"gridcolor\": \"white\", \"gridwidth\": 2, \"linecolor\": \"white\", \"showbackground\": true, \"ticks\": \"\", \"zerolinecolor\": \"white\"}, \"zaxis\": {\"backgroundcolor\": \"#E5ECF6\", \"gridcolor\": \"white\", \"gridwidth\": 2, \"linecolor\": \"white\", \"showbackground\": true, \"ticks\": \"\", \"zerolinecolor\": \"white\"}}, \"shapedefaults\": {\"line\": {\"color\": \"#2a3f5f\"}}, \"ternary\": {\"aaxis\": {\"gridcolor\": \"white\", \"linecolor\": \"white\", \"ticks\": \"\"}, \"baxis\": {\"gridcolor\": \"white\", \"linecolor\": \"white\", \"ticks\": \"\"}, \"bgcolor\": \"#E5ECF6\", \"caxis\": {\"gridcolor\": \"white\", \"linecolor\": \"white\", \"ticks\": \"\"}}, \"title\": {\"x\": 0.05}, \"xaxis\": {\"automargin\": true, \"gridcolor\": \"white\", \"linecolor\": \"white\", \"ticks\": \"\", \"zerolinecolor\": \"white\", \"zerolinewidth\": 2}, \"yaxis\": {\"automargin\": true, \"gridcolor\": \"white\", \"linecolor\": \"white\", \"ticks\": \"\", \"zerolinecolor\": \"white\", \"zerolinewidth\": 2}}}},\n",
       "                        {\"responsive\": true}\n",
       "                    ).then(function(){\n",
       "                            \n",
       "var gd = document.getElementById('94047b39-a30a-42ea-a31f-df5e1f33a778');\n",
       "var x = new MutationObserver(function (mutations, observer) {{\n",
       "        var display = window.getComputedStyle(gd).display;\n",
       "        if (!display || display === 'none') {{\n",
       "            console.log([gd, 'removed!']);\n",
       "            Plotly.purge(gd);\n",
       "            observer.disconnect();\n",
       "        }}\n",
       "}});\n",
       "\n",
       "// Listen for the removal of the full notebook cells\n",
       "var notebookContainer = gd.closest('#notebook-container');\n",
       "if (notebookContainer) {{\n",
       "    x.observe(notebookContainer, {childList: true});\n",
       "}}\n",
       "\n",
       "// Listen for the clearing of the current output cell\n",
       "var outputEl = gd.closest('.output');\n",
       "if (outputEl) {{\n",
       "    x.observe(outputEl, {childList: true});\n",
       "}}\n",
       "\n",
       "                        })\n",
       "                };\n",
       "                });\n",
       "            </script>\n",
       "        </div>"
      ]
     },
     "metadata": {},
     "output_type": "display_data"
    }
   ],
   "source": [
    "##\n",
    "max_ratings_id = df.groupby('iid')['rui'].count().reset_index().sort_values('rui',ascending=False)[:1]\n",
    "max_ratings_id = list_from_df(max_ratings_id,'iid')[0]\n",
    "\n",
    "est_pred_df = df[df['iid'] == max_ratings_id]\n",
    "\n",
    "predicted_ratings = list_from_df(est_pred_df,'est')\n",
    "actual_ratings = list_from_df(est_pred_df,'rui')\n",
    "user_ds = list_from_df(est_pred_df,'uid')\n",
    "user_ds = np.sort(user_ds)\n",
    "\n",
    "# Plotting\n",
    "fig = go.Figure()\n",
    "fig.add_trace(go.Scatter(x=user_ds,y=actual_ratings,\n",
    "             mode='lines',\n",
    "             name='Actual'))\n",
    "fig.add_trace(go.Scatter(x=user_ds,y=predicted_ratings,\n",
    "             mode='lines',\n",
    "             name='Predicted'))\n",
    "fig.show()"
   ]
  },
  {
   "cell_type": "code",
   "execution_count": 58,
   "metadata": {},
   "outputs": [
    {
     "data": {
      "image/png": "[encoded data removed]",
      "text/plain": [
       "<Figure size 432x288 with 1 Axes>"
      ]
     },
     "metadata": {
      "needs_background": "light"
     },
     "output_type": "display_data"
    }
   ],
   "source": [
    "actual_sum_ratings = df.groupby('iid')['rui'].sum().reset_index().sort_values('rui', ascending=False)[:10]\n",
    "y_movie_id = actual_sum_ratings['iid'].tolist()\n",
    "actual_sum_ratings = actual_sum_ratings['rui'].tolist()\n",
    "predicted_sum_ratings = df.groupby('iid')['est'].sum().reset_index().sort_values('est', ascending=False)[:10]\n",
    "predicted_sum_ratings = predicted_sum_ratings['est'].tolist()\n",
    "\n",
    "Y = []\n",
    "for i in y_movie_id:\n",
    "    Y.append(str(i))\n",
    "index = np.arange(10)\n",
    "width = 0.30\n",
    "\n",
    "plt.bar( index, actual_sum_ratings,width, color ='red',label = 'Actual Rating')\n",
    "plt.bar( index+width, predicted_sum_ratings,width, color ='blue',label = 'Predicted Rating')\n",
    "plt.xlabel(\"Movie-Id\")\n",
    "plt.xticks(index+ width/2,Y)\n",
    "plt.show();\n"
   ]
  },
  {
   "cell_type": "code",
   "execution_count": 59,
   "metadata": {},
   "outputs": [
    {
     "data": {
      "image/png": "[encoded data removed]",
      "text/plain": [
       "<Figure size 432x288 with 1 Axes>"
      ]
     },
     "metadata": {
      "needs_background": "light"
     },
     "output_type": "display_data"
    }
   ],
   "source": [
    "df3 = df[df['uid'] == 8].head(n=10)\n",
    "movie_id = df3['iid'].tolist()\n",
    "x = []\n",
    "for i in movie_id:\n",
    "    x.append(str(i))\n",
    "actual_rating= df3['rui'].tolist()\n",
    "estimated_rating = df3['est'].tolist()\n",
    "variance = df3['err'].tolist()\n",
    "\n",
    "index = np.arange(10)\n",
    "width = 0.30\n",
    "plt.bar( index, actual_rating,width, color ='red',label = 'Actual Rating')\n",
    "plt.bar( index+width, estimated_rating,width, color ='blue',label = 'Predicted Rating')\n",
    "plt.title(\"Actual Rating vs Estimated Rating for User-Id 8\")\n",
    "plt.xlabel(\"Movie-Id\")\n",
    "plt.ylabel(\"Ratings\")\n",
    "plt.xticks(index+ width/2,x)\n",
    "plt.show();"
   ]
  },
  {
   "cell_type": "code",
   "execution_count": null,
   "metadata": {},
   "outputs": [],
   "source": []
  }
 ],
 "metadata": {
  "kernelspec": {
   "display_name": "Python 3",
   "language": "python",
   "name": "python3"
  },
  "language_info": {
   "codemirror_mode": {
    "name": "ipython",
    "version": 3
   },
   "file_extension": ".py",
   "mimetype": "text/x-python",
   "name": "python",
   "nbconvert_exporter": "python",
   "pygments_lexer": "ipython3",
   "version": "3.6.8"
  }
 },
 "nbformat": 4,
 "nbformat_minor": 2
}
